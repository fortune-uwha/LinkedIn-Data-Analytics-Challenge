{
 "cells": [
  {
   "cell_type": "markdown",
   "metadata": {},
   "source": [
    "### Data Wrangling Exercise\n",
    "**The Task:**\n",
    "There are two sets of files named covid* and worldwide*.\n",
    "Both sets of files have two versions at two different times of the day: around 11pm(23:00) and early in the morning:\n",
    "\n",
    "(1) Organise the files into 4 groups (show formula + number of files each).\n",
    "   - (a) covid* 11pm+\n",
    "   - (b) world* 11pm+\n",
    "   - (c) covid* other time\n",
    "   - (d) world* other time\n",
    "   \n",
    "2) Using 1b above, how many cases did the US and Germany each record in April?\n",
    "\n",
    "3) Using 1b above, how many cases did the US and Germany each record in May?\n",
    "\n",
    "4) Using 1c above, how many cases did Italy and Russia each record in April?\n",
    "\n",
    "5) Using 1c above, how many cases did Italy and Russia each record in May?\n",
    "\n",
    "#### Kicker\n",
    "Using 1b, how many cases were recorded by US, Italy, China, Russia, Germany in April + May?\n",
    " "
   ]
  },
  {
   "cell_type": "code",
   "execution_count": 1,
   "metadata": {},
   "outputs": [],
   "source": [
    "# import packages\n",
    "import os\n",
    "import numpy as np\n",
    "import pandas as pd\n",
    "import plotly.express as px\n",
    "import re\n",
    "os.chdir(r\"AskPyFesh Challenge 2 dataset\")\n",
    "import warnings\n",
    "warnings.filterwarnings('ignore')"
   ]
  },
  {
   "cell_type": "code",
   "execution_count": 2,
   "metadata": {},
   "outputs": [],
   "source": [
    "#Get data from file path\n",
    "list_data = os.listdir(r\"C:\\Users\\USER\\Documents\\AskPyFesh Challenge 2 dataset\")"
   ]
  },
  {
   "cell_type": "markdown",
   "metadata": {},
   "source": [
    "#### Question 1"
   ]
  },
  {
   "cell_type": "code",
   "execution_count": 7,
   "metadata": {},
   "outputs": [
    {
     "name": "stdout",
     "output_type": "stream",
     "text": [
      "Total number of files for covid_11pm = 42\n",
      "Total number of files for covid_Apr_11pm = 18\n",
      "Total number of files for covid_May_11pm = 24\n"
     ]
    }
   ],
   "source": [
    "#Total number of files in covid_11pm\n",
    "covid_11pm = [f for f in list_data if re.findall(r'covid*\\S+[\\s]23\\S+.csv',f)]\n",
    "print(f\"Total number of files for covid_11pm = {len(covid_11pm)}\")\n",
    "\n",
    "#Splitting covid_11pm files per Month(Apr/May) to answer questions above \n",
    "covid_Apr = [f for f in list_data if 'Apr' in f]\n",
    "covid_Apr_11pm = [f for f in covid_Apr if re.findall(r'covid*\\S+[\\s]23\\S+.csv',f)]\n",
    "print(f\"Total number of files for covid_Apr_11pm = {len(covid_Apr_11pm)}\")\n",
    "#combine all files in the list\n",
    "covid = pd.concat([pd.read_csv(f) for f in covid_Apr_11pm])\n",
    "#export to csv\n",
    "covid.to_csv('covid_Apr_11pm.csv',index=False,encoding='utf-8-sig')\n",
    "#load dataset\n",
    "covid_Apr_11pm = pd.read_csv('covid_Apr_11pm.csv')\n",
    "\n",
    "covid_May = [f for f in list_data if 'May' in f]\n",
    "covid_May_11pm = [f for f in covid_May if re.findall(r'covid*\\S+[\\s]23\\S+.csv',f)]\n",
    "print(f\"Total number of files for covid_May_11pm = {len(covid_May_11pm)}\")\n",
    "#combine all files in the list\n",
    "covid = pd.concat([pd.read_csv(f) for f in covid_May_11pm])\n",
    "#export to csv\n",
    "covid.to_csv('covid_May_11pm.csv',index=False,encoding='utf-8-sig')\n",
    "#load dataset\n",
    "covid_May_11pm = pd.read_csv('covid_May_11pm.csv')\n",
    " "
   ]
  },
  {
   "cell_type": "code",
   "execution_count": 12,
   "metadata": {},
   "outputs": [
    {
     "name": "stdout",
     "output_type": "stream",
     "text": [
      "Total number of files for worldwide_11pm = 43\n",
      "Total number of files for worldwide_Apr_11pm = 19\n",
      "Total number of files for worldwide_May_11pm = 24\n"
     ]
    }
   ],
   "source": [
    "worldwide_11pm = [f for f in list_data if re.findall(r'worldwide*\\S+[\\s]23\\S+.csv',f)]\n",
    "print(f\"Total number of files for worldwide_11pm = {len(worldwide_11pm)}\" )\n",
    "\n",
    "#Splitting covid_11pm files per Month(Apr/May) to answer questions above \n",
    "worldwide_Apr = [f for f in list_data if 'Apr' in f]\n",
    "worldwide_Apr_11pm = [f for f in worldwide_Apr if re.findall(r'worldwide*\\S+[\\s]23\\S+.csv',f)]\n",
    "print(f\"Total number of files for worldwide_Apr_11pm = {len(worldwide_Apr_11pm)}\" )\n",
    "#combine all files in the list\n",
    "def combine_column_apr(files):\n",
    "    cols = {'Total confirmed cases':'Total confirmed','Cases confirmed today':'Total_confirmed_today','Confirmed recoveries':'Total_recoveries','Deaths today':'Total_deaths_today',\n",
    "            'Total deaths':'Total_deaths','Recoveries confirmed today':'Total_Recoveries_today',}\n",
    "    worldwide = pd.concat([pd.read_csv(f).rename(columns=cols) for f in worldwide_Apr_11pm],ignore_index=True)\n",
    "    #worldwide.columns = [line.lower().replace(' ','_') for line in worldwide.columns]\n",
    "    return worldwide \n",
    "worldwide_Apr_11pm = combine_column_apr(worldwide_Apr_11pm)\n",
    "\n",
    "worldwide_May = [f for f in list_data if 'May' in f]\n",
    "worldwide_May_11pm = [f for f in worldwide_May if re.findall(r'worldwide*\\S+[\\s]23\\S+.csv',f)]\n",
    "print(f\"Total number of files for worldwide_May_11pm = {len(worldwide_May_11pm)}\" )\n",
    "#combine all files in the list\n",
    "worldwide1 = pd.concat([pd.read_csv(f) for f in worldwide_May_11pm])\n",
    "#export to csv\n",
    "worldwide1.to_csv('worldwide_May_11pm.csv',index=False,encoding='utf-8-sig')\n",
    "#load dataset\n",
    "worldwide_May_11pm = pd.read_csv('worldwide_May_11pm.csv')"
   ]
  },
  {
   "cell_type": "code",
   "execution_count": 13,
   "metadata": {},
   "outputs": [
    {
     "name": "stdout",
     "output_type": "stream",
     "text": [
      "Total number of files for covid_other = 51\n",
      "Total number of files for covid_Apr_other = 28\n",
      "Total number of files for covid_May_other = 23\n"
     ]
    }
   ],
   "source": [
    "#Total number of files in covid_other\n",
    "covid_other = [f for f in list_data if re.findall(r'covid*\\S+[\\s][^23]\\S+.csv',f)]\n",
    "print(f\"Total number of files for covid_other = {len(covid_other)}\")\n",
    "\n",
    "#Splitting covid_other files per Month(Apr/May) to answer questions above \n",
    "covid_Apr_other = [f for f in covid_Apr if re.findall(r'covid*\\S+[\\s][^23]\\S+.csv',f)]\n",
    "print(f\"Total number of files for covid_Apr_other = {len(covid_Apr_other)}\")\n",
    "#combine all files in the list\n",
    "covid = pd.concat([pd.read_csv(f) for f in covid_Apr_other])\n",
    "#export to csv\n",
    "covid.to_csv('covid_Apr_other.csv',index=False,encoding='utf-8-sig')\n",
    "#load dataset\n",
    "covid_Apr_other = pd.read_csv('covid_Apr_other.csv')\n",
    "\n",
    "covid_May_other = [f for f in covid_May if re.findall(r'covid*\\S+[\\s][^23]\\S+.csv',f)]\n",
    "print(f\"Total number of files for covid_May_other = {len(covid_May_other)}\")\n",
    "#combine all files in the list\n",
    "covid = pd.concat([pd.read_csv(f) for f in covid_May_other])\n",
    "#export to csv\n",
    "covid.to_csv('covid_May_other.csv',index=False,encoding='utf-8-sig')\n",
    "#load dataset\n",
    "covid_May_other = pd.read_csv('covid_May_other.csv')"
   ]
  },
  {
   "cell_type": "code",
   "execution_count": 10,
   "metadata": {},
   "outputs": [
    {
     "name": "stdout",
     "output_type": "stream",
     "text": [
      "Total number of files for worldwide_other = 45\n",
      "Total number of files for worldwide_Apr_other = 22\n",
      "Total number of files for worldwide_May_other = 23\n"
     ]
    }
   ],
   "source": [
    "worldwide_other = [f for f in list_data if re.findall(r'worldwide*\\S+[\\s][^23]\\S+.csv',f)]\n",
    "print(f\"Total number of files for worldwide_other = {len(worldwide_other)}\" )\n",
    "\n",
    "#Splitting covid_other files per Month(Apr/May) to answer questions above \n",
    "worldwide_Apr_other = [f for f in worldwide_Apr if re.findall(r'worldwide*\\S+[\\s][^23]\\S+.csv',f)]\n",
    "print(f\"Total number of files for worldwide_Apr_other = {len(worldwide_Apr_other)}\" )\n",
    "#combine all files in the list\n",
    "worldwide = pd.concat([pd.read_csv(f) for f in worldwide_Apr_other])\n",
    "#export to csv\n",
    "worldwide.to_csv('worldwide_Apr_other.csv',index=False,encoding='utf-8-sig')\n",
    "#load dataset\n",
    "worldwide_Apr_11pm = pd.read_csv('worldwide_Apr_other.csv')\n",
    "\n",
    "worldwide_May_other = [f for f in worldwide_May if re.findall(r'worldwide*\\S+[\\s][^23]\\S+.csv',f)]\n",
    "print(f\"Total number of files for worldwide_May_other = {len(worldwide_May_other)}\" )\n",
    "#combine all files in the list\n",
    "worldwide = pd.concat([pd.read_csv(f) for f in worldwide_May_other])\n",
    "#export to csv\n",
    "worldwide.to_csv('worldwide_May_other.csv',index=False,encoding='utf-8-sig')\n",
    "#load dataset\n",
    "worldwide_May_other = pd.read_csv('worldwide_May_other.csv')"
   ]
  },
  {
   "cell_type": "markdown",
   "metadata": {},
   "source": [
    "#### Question 2: Using worldwide_11pm data, how many cases did the US and Germany each record in April?"
   ]
  },
  {
   "cell_type": "code",
   "execution_count": 11,
   "metadata": {},
   "outputs": [
    {
     "data": {
      "text/html": [
       "<div>\n",
       "<style scoped>\n",
       "    .dataframe tbody tr th:only-of-type {\n",
       "        vertical-align: middle;\n",
       "    }\n",
       "\n",
       "    .dataframe tbody tr th {\n",
       "        vertical-align: top;\n",
       "    }\n",
       "\n",
       "    .dataframe thead th {\n",
       "        text-align: right;\n",
       "    }\n",
       "</style>\n",
       "<table border=\"1\" class=\"dataframe\">\n",
       "  <thead>\n",
       "    <tr style=\"text-align: right;\">\n",
       "      <th></th>\n",
       "      <th>Country</th>\n",
       "      <th>Total confirmed cases</th>\n",
       "      <th>Total deaths</th>\n",
       "      <th>Confirmed recoveries</th>\n",
       "      <th>Cases confirmed today</th>\n",
       "      <th>Deaths today</th>\n",
       "      <th>Recoveries confirmed today</th>\n",
       "      <th>Total confirmed</th>\n",
       "      <th>Total_confirmed_today</th>\n",
       "      <th>Total_deaths</th>\n",
       "      <th>Total_deaths_today</th>\n",
       "      <th>Total_Recoveries</th>\n",
       "      <th>Total_Recoveries_today</th>\n",
       "      <th>Active_confirmed</th>\n",
       "      <th>Critical</th>\n",
       "      <th>Mortality_close</th>\n",
       "      <th>Mortality_confirmed</th>\n",
       "      <th>Total_tests</th>\n",
       "      <th>Total_tests_today</th>\n",
       "    </tr>\n",
       "  </thead>\n",
       "  <tbody>\n",
       "    <tr>\n",
       "      <th>0</th>\n",
       "      <td>united-states</td>\n",
       "      <td>244,190</td>\n",
       "      <td>5,883</td>\n",
       "      <td>10,400</td>\n",
       "      <td>29,551</td>\n",
       "      <td>784</td>\n",
       "      <td>1,522</td>\n",
       "      <td>NaN</td>\n",
       "      <td>NaN</td>\n",
       "      <td>NaN</td>\n",
       "      <td>NaN</td>\n",
       "      <td>NaN</td>\n",
       "      <td>NaN</td>\n",
       "      <td>NaN</td>\n",
       "      <td>NaN</td>\n",
       "      <td>NaN</td>\n",
       "      <td>NaN</td>\n",
       "      <td>NaN</td>\n",
       "      <td>NaN</td>\n",
       "    </tr>\n",
       "    <tr>\n",
       "      <th>1</th>\n",
       "      <td>italy</td>\n",
       "      <td>115,242</td>\n",
       "      <td>13,915</td>\n",
       "      <td>18,278</td>\n",
       "      <td>4,668</td>\n",
       "      <td>760</td>\n",
       "      <td>1,431</td>\n",
       "      <td>NaN</td>\n",
       "      <td>NaN</td>\n",
       "      <td>NaN</td>\n",
       "      <td>NaN</td>\n",
       "      <td>NaN</td>\n",
       "      <td>NaN</td>\n",
       "      <td>NaN</td>\n",
       "      <td>NaN</td>\n",
       "      <td>NaN</td>\n",
       "      <td>NaN</td>\n",
       "      <td>NaN</td>\n",
       "      <td>NaN</td>\n",
       "    </tr>\n",
       "  </tbody>\n",
       "</table>\n",
       "</div>"
      ],
      "text/plain": [
       "         Country Total confirmed cases Total deaths Confirmed recoveries  \\\n",
       "0  united-states               244,190        5,883               10,400   \n",
       "1          italy               115,242       13,915               18,278   \n",
       "\n",
       "  Cases confirmed today Deaths today Recoveries confirmed today  \\\n",
       "0                29,551          784                      1,522   \n",
       "1                 4,668          760                      1,431   \n",
       "\n",
       "  Total confirmed Total_confirmed_today Total_deaths Total_deaths_today  \\\n",
       "0             NaN                   NaN          NaN                NaN   \n",
       "1             NaN                   NaN          NaN                NaN   \n",
       "\n",
       "  Total_Recoveries Total_Recoveries_today Active_confirmed Critical  \\\n",
       "0              NaN                    NaN              NaN      NaN   \n",
       "1              NaN                    NaN              NaN      NaN   \n",
       "\n",
       "  Mortality_close Mortality_confirmed Total_tests Total_tests_today  \n",
       "0             NaN                 NaN         NaN               NaN  \n",
       "1             NaN                 NaN         NaN               NaN  "
      ]
     },
     "execution_count": 11,
     "metadata": {},
     "output_type": "execute_result"
    }
   ],
   "source": [
    "worldwide_Apr_11pm.head(2)"
   ]
  },
  {
   "cell_type": "code",
   "execution_count": 8,
   "metadata": {},
   "outputs": [],
   "source": [
    "#Dropping columns we wont need for this analysis\n",
    "worldwide_Apr_11pm = worldwide_Apr_11pm.drop(['Critical','Mortality_close','Mortality_confirmed','Total_tests','Total_tests_today','Active_confirmed'],axis=1)"
   ]
  },
  {
   "cell_type": "code",
   "execution_count": 9,
   "metadata": {},
   "outputs": [
    {
     "name": "stdout",
     "output_type": "stream",
     "text": [
      "<class 'pandas.core.frame.DataFrame'>\n",
      "RangeIndex: 4459 entries, 0 to 4458\n",
      "Data columns (total 13 columns):\n",
      " #   Column                      Non-Null Count  Dtype \n",
      "---  ------                      --------------  ----- \n",
      " 0   Country                     4459 non-null   object\n",
      " 1   Total confirmed cases       1011 non-null   object\n",
      " 2   Total deaths                1011 non-null   object\n",
      " 3   Confirmed recoveries        1011 non-null   object\n",
      " 4   Cases confirmed today       1011 non-null   object\n",
      " 5   Deaths today                1011 non-null   object\n",
      " 6   Recoveries confirmed today  1011 non-null   object\n",
      " 7   Total confirmed             3448 non-null   object\n",
      " 8   Total_confirmed_today       3448 non-null   object\n",
      " 9   Total_deaths                3448 non-null   object\n",
      " 10  Total_deaths_today          3448 non-null   object\n",
      " 11  Total_Recoveries            3448 non-null   object\n",
      " 12  Total_Recoveries_today      3448 non-null   object\n",
      "dtypes: object(13)\n",
      "memory usage: 453.0+ KB\n"
     ]
    }
   ],
   "source": [
    " worldwide_Apr_11pm= worldwide_Apr_11pm.reset_index(drop= True)\n",
    "worldwide_Apr_11pm.info()"
   ]
  },
  {
   "cell_type": "code",
   "execution_count": 10,
   "metadata": {},
   "outputs": [
    {
     "name": "stdout",
     "output_type": "stream",
     "text": [
      "<class 'pandas.core.frame.DataFrame'>\n",
      "RangeIndex: 3917 entries, 0 to 3916\n",
      "Data columns (total 13 columns):\n",
      " #   Column                      Non-Null Count  Dtype \n",
      "---  ------                      --------------  ----- \n",
      " 0   Country                     3917 non-null   object\n",
      " 1   Total confirmed cases       925 non-null    object\n",
      " 2   Total deaths                925 non-null    object\n",
      " 3   Confirmed recoveries        925 non-null    object\n",
      " 4   Cases confirmed today       925 non-null    object\n",
      " 5   Deaths today                925 non-null    object\n",
      " 6   Recoveries confirmed today  925 non-null    object\n",
      " 7   Total confirmed             2992 non-null   object\n",
      " 8   Total_confirmed_today       2992 non-null   object\n",
      " 9   Total_deaths                2992 non-null   object\n",
      " 10  Total_deaths_today          2992 non-null   object\n",
      " 11  Total_Recoveries            2992 non-null   object\n",
      " 12  Total_Recoveries_today      2992 non-null   object\n",
      "dtypes: object(13)\n",
      "memory usage: 397.9+ KB\n"
     ]
    }
   ],
   "source": [
    "#drop duplicates\n",
    "worldwide_Apr_11pm = worldwide_Apr_11pm.drop_duplicates()\n",
    "worldwide_Apr_11pm= worldwide_Apr_11pm.reset_index(drop= True)\n",
    "#From the result we'll be able to see whether or not all columns have complete data in them.\n",
    "worldwide_Apr_11pm.info()"
   ]
  },
  {
   "cell_type": "markdown",
   "metadata": {},
   "source": [
    "#### Some observations:\n",
    "    - For this question we are interested in the 'total_confirmed_today' column. A quick glance at the stats above shows \n",
    "    that it has 591 missing values.That's a lot! we will deal with this missing values as we go further in our analysis \n",
    "    - Notice too that the column \"Total_confirmed_today\" is of type object. The comma in each value for this column needs to be removed, and the column needs to be converted to numeric"
   ]
  },
  {
   "cell_type": "markdown",
   "metadata": {},
   "source": [
    "#### Cleaning the total_confirmed_today column \n",
    "    - Removing the comma(,) \n",
    "    There are a bunch of different ways to accomplish this in Python. But for this data, we will use a straight forward str.replace(',','') method on the entire column as it simply replaces the ',' it looks like this:    "
   ]
  },
  {
   "cell_type": "code",
   "execution_count": 14,
   "metadata": {},
   "outputs": [],
   "source": [
    "worldwide_Apr_11pm['Total_confirmed_today']=worldwide_Apr_11pm['Total_confirmed_today'].str.replace(',', '')\n",
    "worldwide_Apr_11pm['Total_confirmed_today']=worldwide_Apr_11pm['Total_confirmed_today'].fillna(0)\n",
    "worldwide_Apr_11pm['Total_confirmed_today']=worldwide_Apr_11pm['Total_confirmed_today'].astype(int)"
   ]
  },
  {
   "cell_type": "code",
   "execution_count": 15,
   "metadata": {},
   "outputs": [],
   "source": [
    "worldwide_Apr_11pm['Total confirmed']=worldwide_Apr_11pm['Total confirmed'].str.replace(',', '')\n",
    "worldwide_Apr_11pm['Total confirmed']=worldwide_Apr_11pm['Total confirmed'].fillna(0)\n",
    "worldwide_Apr_11pm['Total confirmed']=worldwide_Apr_11pm['Total confirmed'].astype(int)"
   ]
  },
  {
   "cell_type": "code",
   "execution_count": 16,
   "metadata": {},
   "outputs": [],
   "source": [
    "worldwide_Apr_11pm['Country']=worldwide_Apr_11pm['Country'].replace('united-states','USA')\n",
    "#worldwide_Apr_11pm.reset_index(drop=True)"
   ]
  },
  {
   "cell_type": "code",
   "execution_count": 17,
   "metadata": {},
   "outputs": [
    {
     "ename": "KeyError",
     "evalue": "'Total confirmed cases'",
     "output_type": "error",
     "traceback": [
      "\u001b[1;31m---------------------------------------------------------------------------\u001b[0m",
      "\u001b[1;31mKeyError\u001b[0m                                  Traceback (most recent call last)",
      "\u001b[1;32m~\\Anaconda3\\lib\\site-packages\\pandas\\core\\indexes\\base.py\u001b[0m in \u001b[0;36mget_loc\u001b[1;34m(self, key, method, tolerance)\u001b[0m\n\u001b[0;32m   2890\u001b[0m             \u001b[1;32mtry\u001b[0m\u001b[1;33m:\u001b[0m\u001b[1;33m\u001b[0m\u001b[1;33m\u001b[0m\u001b[0m\n\u001b[1;32m-> 2891\u001b[1;33m                 \u001b[1;32mreturn\u001b[0m \u001b[0mself\u001b[0m\u001b[1;33m.\u001b[0m\u001b[0m_engine\u001b[0m\u001b[1;33m.\u001b[0m\u001b[0mget_loc\u001b[0m\u001b[1;33m(\u001b[0m\u001b[0mcasted_key\u001b[0m\u001b[1;33m)\u001b[0m\u001b[1;33m\u001b[0m\u001b[1;33m\u001b[0m\u001b[0m\n\u001b[0m\u001b[0;32m   2892\u001b[0m             \u001b[1;32mexcept\u001b[0m \u001b[0mKeyError\u001b[0m \u001b[1;32mas\u001b[0m \u001b[0merr\u001b[0m\u001b[1;33m:\u001b[0m\u001b[1;33m\u001b[0m\u001b[1;33m\u001b[0m\u001b[0m\n",
      "\u001b[1;32mpandas\\_libs\\index.pyx\u001b[0m in \u001b[0;36mpandas._libs.index.IndexEngine.get_loc\u001b[1;34m()\u001b[0m\n",
      "\u001b[1;32mpandas\\_libs\\index.pyx\u001b[0m in \u001b[0;36mpandas._libs.index.IndexEngine.get_loc\u001b[1;34m()\u001b[0m\n",
      "\u001b[1;32mpandas\\_libs\\hashtable_class_helper.pxi\u001b[0m in \u001b[0;36mpandas._libs.hashtable.PyObjectHashTable.get_item\u001b[1;34m()\u001b[0m\n",
      "\u001b[1;32mpandas\\_libs\\hashtable_class_helper.pxi\u001b[0m in \u001b[0;36mpandas._libs.hashtable.PyObjectHashTable.get_item\u001b[1;34m()\u001b[0m\n",
      "\u001b[1;31mKeyError\u001b[0m: 'Total confirmed cases'",
      "\nThe above exception was the direct cause of the following exception:\n",
      "\u001b[1;31mKeyError\u001b[0m                                  Traceback (most recent call last)",
      "\u001b[1;32m<ipython-input-17-fd884c9f9752>\u001b[0m in \u001b[0;36m<module>\u001b[1;34m\u001b[0m\n\u001b[1;32m----> 1\u001b[1;33m \u001b[0mUS_cases_Apr\u001b[0m \u001b[1;33m=\u001b[0m \u001b[0mworldwide_Apr_11pm\u001b[0m\u001b[1;33m[\u001b[0m\u001b[0mworldwide_Apr_11pm\u001b[0m\u001b[1;33m[\u001b[0m\u001b[1;34m'Country'\u001b[0m\u001b[1;33m]\u001b[0m\u001b[1;33m==\u001b[0m\u001b[1;34m'USA'\u001b[0m\u001b[1;33m]\u001b[0m\u001b[1;33m[\u001b[0m\u001b[1;34m'Total confirmed cases'\u001b[0m\u001b[1;33m]\u001b[0m\u001b[1;33m.\u001b[0m\u001b[0msum\u001b[0m\u001b[1;33m(\u001b[0m\u001b[1;33m)\u001b[0m\u001b[1;33m\u001b[0m\u001b[1;33m\u001b[0m\u001b[0m\n\u001b[0m\u001b[0;32m      2\u001b[0m \u001b[0mprint\u001b[0m\u001b[1;33m(\u001b[0m\u001b[1;34mf\"Total number of cases in April for US = {US_cases_Apr}\"\u001b[0m\u001b[1;33m)\u001b[0m\u001b[1;33m\u001b[0m\u001b[1;33m\u001b[0m\u001b[0m\n",
      "\u001b[1;32m~\\Anaconda3\\lib\\site-packages\\pandas\\core\\frame.py\u001b[0m in \u001b[0;36m__getitem__\u001b[1;34m(self, key)\u001b[0m\n\u001b[0;32m   2900\u001b[0m             \u001b[1;32mif\u001b[0m \u001b[0mself\u001b[0m\u001b[1;33m.\u001b[0m\u001b[0mcolumns\u001b[0m\u001b[1;33m.\u001b[0m\u001b[0mnlevels\u001b[0m \u001b[1;33m>\u001b[0m \u001b[1;36m1\u001b[0m\u001b[1;33m:\u001b[0m\u001b[1;33m\u001b[0m\u001b[1;33m\u001b[0m\u001b[0m\n\u001b[0;32m   2901\u001b[0m                 \u001b[1;32mreturn\u001b[0m \u001b[0mself\u001b[0m\u001b[1;33m.\u001b[0m\u001b[0m_getitem_multilevel\u001b[0m\u001b[1;33m(\u001b[0m\u001b[0mkey\u001b[0m\u001b[1;33m)\u001b[0m\u001b[1;33m\u001b[0m\u001b[1;33m\u001b[0m\u001b[0m\n\u001b[1;32m-> 2902\u001b[1;33m             \u001b[0mindexer\u001b[0m \u001b[1;33m=\u001b[0m \u001b[0mself\u001b[0m\u001b[1;33m.\u001b[0m\u001b[0mcolumns\u001b[0m\u001b[1;33m.\u001b[0m\u001b[0mget_loc\u001b[0m\u001b[1;33m(\u001b[0m\u001b[0mkey\u001b[0m\u001b[1;33m)\u001b[0m\u001b[1;33m\u001b[0m\u001b[1;33m\u001b[0m\u001b[0m\n\u001b[0m\u001b[0;32m   2903\u001b[0m             \u001b[1;32mif\u001b[0m \u001b[0mis_integer\u001b[0m\u001b[1;33m(\u001b[0m\u001b[0mindexer\u001b[0m\u001b[1;33m)\u001b[0m\u001b[1;33m:\u001b[0m\u001b[1;33m\u001b[0m\u001b[1;33m\u001b[0m\u001b[0m\n\u001b[0;32m   2904\u001b[0m                 \u001b[0mindexer\u001b[0m \u001b[1;33m=\u001b[0m \u001b[1;33m[\u001b[0m\u001b[0mindexer\u001b[0m\u001b[1;33m]\u001b[0m\u001b[1;33m\u001b[0m\u001b[1;33m\u001b[0m\u001b[0m\n",
      "\u001b[1;32m~\\Anaconda3\\lib\\site-packages\\pandas\\core\\indexes\\base.py\u001b[0m in \u001b[0;36mget_loc\u001b[1;34m(self, key, method, tolerance)\u001b[0m\n\u001b[0;32m   2891\u001b[0m                 \u001b[1;32mreturn\u001b[0m \u001b[0mself\u001b[0m\u001b[1;33m.\u001b[0m\u001b[0m_engine\u001b[0m\u001b[1;33m.\u001b[0m\u001b[0mget_loc\u001b[0m\u001b[1;33m(\u001b[0m\u001b[0mcasted_key\u001b[0m\u001b[1;33m)\u001b[0m\u001b[1;33m\u001b[0m\u001b[1;33m\u001b[0m\u001b[0m\n\u001b[0;32m   2892\u001b[0m             \u001b[1;32mexcept\u001b[0m \u001b[0mKeyError\u001b[0m \u001b[1;32mas\u001b[0m \u001b[0merr\u001b[0m\u001b[1;33m:\u001b[0m\u001b[1;33m\u001b[0m\u001b[1;33m\u001b[0m\u001b[0m\n\u001b[1;32m-> 2893\u001b[1;33m                 \u001b[1;32mraise\u001b[0m \u001b[0mKeyError\u001b[0m\u001b[1;33m(\u001b[0m\u001b[0mkey\u001b[0m\u001b[1;33m)\u001b[0m \u001b[1;32mfrom\u001b[0m \u001b[0merr\u001b[0m\u001b[1;33m\u001b[0m\u001b[1;33m\u001b[0m\u001b[0m\n\u001b[0m\u001b[0;32m   2894\u001b[0m \u001b[1;33m\u001b[0m\u001b[0m\n\u001b[0;32m   2895\u001b[0m         \u001b[1;32mif\u001b[0m \u001b[0mtolerance\u001b[0m \u001b[1;32mis\u001b[0m \u001b[1;32mnot\u001b[0m \u001b[1;32mNone\u001b[0m\u001b[1;33m:\u001b[0m\u001b[1;33m\u001b[0m\u001b[1;33m\u001b[0m\u001b[0m\n",
      "\u001b[1;31mKeyError\u001b[0m: 'Total confirmed cases'"
     ]
    }
   ],
   "source": [
    "US_cases_Apr = worldwide_Apr_11pm[worldwide_Apr_11pm['Country']=='USA']['Total confirmed cases'].sum()\n",
    "print(f\"Total number of cases in April for US = {US_cases_Apr}\")"
   ]
  },
  {
   "cell_type": "code",
   "execution_count": 22,
   "metadata": {},
   "outputs": [
    {
     "name": "stdout",
     "output_type": "stream",
     "text": [
      "Total number of cases in April for Germany = 161539\n"
     ]
    }
   ],
   "source": [
    "Germany_cases_Apr = worldwide_Apr_11pm[worldwide_Apr_11pm['Country']=='germany']\n",
    "Germany_cases_Apr = Germany_cases_Apr['Total confirmed'].max() - Germany_cases_Apr['Total confirmed'].min()\n",
    "print(f\"Total number of cases in April for Germany = {Germany_cases_Apr}\")"
   ]
  },
  {
   "cell_type": "code",
   "execution_count": 16,
   "metadata": {},
   "outputs": [
    {
     "data": {
      "text/html": [
       "<div>\n",
       "<style scoped>\n",
       "    .dataframe tbody tr th:only-of-type {\n",
       "        vertical-align: middle;\n",
       "    }\n",
       "\n",
       "    .dataframe tbody tr th {\n",
       "        vertical-align: top;\n",
       "    }\n",
       "\n",
       "    .dataframe thead th {\n",
       "        text-align: right;\n",
       "    }\n",
       "</style>\n",
       "<table border=\"1\" class=\"dataframe\">\n",
       "  <thead>\n",
       "    <tr style=\"text-align: right;\">\n",
       "      <th></th>\n",
       "      <th>Total cases in April</th>\n",
       "    </tr>\n",
       "    <tr>\n",
       "      <th>Country</th>\n",
       "      <th></th>\n",
       "    </tr>\n",
       "  </thead>\n",
       "  <tbody>\n",
       "    <tr>\n",
       "      <th>US</th>\n",
       "      <td>1510633</td>\n",
       "    </tr>\n",
       "    <tr>\n",
       "      <th>Germany</th>\n",
       "      <td>161539</td>\n",
       "    </tr>\n",
       "  </tbody>\n",
       "</table>\n",
       "</div>"
      ],
      "text/plain": [
       "         Total cases in April\n",
       "Country                      \n",
       "US                    1510633\n",
       "Germany                161539"
      ]
     },
     "execution_count": 16,
     "metadata": {},
     "output_type": "execute_result"
    }
   ],
   "source": [
    "df1 = pd.DataFrame({'Country':['US','Germany'],\n",
    "                   'Total cases in April':[US_cases_Apr,Germany_cases_Apr]\n",
    "                   })\n",
    "df1.set_index('Country')"
   ]
  },
  {
   "cell_type": "markdown",
   "metadata": {},
   "source": [
    "#### Question 3: Using worldwide_11pm data, how many cases did the US and Germany each record in May?\n"
   ]
  },
  {
   "cell_type": "code",
   "execution_count": 19,
   "metadata": {},
   "outputs": [
    {
     "data": {
      "text/html": [
       "<div>\n",
       "<style scoped>\n",
       "    .dataframe tbody tr th:only-of-type {\n",
       "        vertical-align: middle;\n",
       "    }\n",
       "\n",
       "    .dataframe tbody tr th {\n",
       "        vertical-align: top;\n",
       "    }\n",
       "\n",
       "    .dataframe thead th {\n",
       "        text-align: right;\n",
       "    }\n",
       "</style>\n",
       "<table border=\"1\" class=\"dataframe\">\n",
       "  <thead>\n",
       "    <tr style=\"text-align: right;\">\n",
       "      <th></th>\n",
       "      <th>Country</th>\n",
       "      <th>Total confirmed</th>\n",
       "      <th>Total_confirmed_today</th>\n",
       "      <th>Total_deaths</th>\n",
       "      <th>Total_deaths_today</th>\n",
       "      <th>Total_Recoveries</th>\n",
       "      <th>Total_Recoveries_today</th>\n",
       "      <th>Active_confirmed</th>\n",
       "      <th>Critical</th>\n",
       "      <th>Mortality_close</th>\n",
       "      <th>Mortality_confirmed</th>\n",
       "      <th>Total_tests</th>\n",
       "      <th>Total_tests_today</th>\n",
       "    </tr>\n",
       "  </thead>\n",
       "  <tbody>\n",
       "    <tr>\n",
       "      <th>0</th>\n",
       "      <td>united-states</td>\n",
       "      <td>1,129,882</td>\n",
       "      <td>35,152</td>\n",
       "      <td>65,724</td>\n",
       "      <td>1,883</td>\n",
       "      <td>161,551</td>\n",
       "      <td>9,227</td>\n",
       "      <td>902,607</td>\n",
       "      <td>16,478 (2%)</td>\n",
       "      <td>902,607</td>\n",
       "      <td>6%</td>\n",
       "      <td>6,690,837</td>\n",
       "      <td>314,371</td>\n",
       "    </tr>\n",
       "    <tr>\n",
       "      <th>1</th>\n",
       "      <td>spain</td>\n",
       "      <td>242,988</td>\n",
       "      <td>3,349</td>\n",
       "      <td>24,824</td>\n",
       "      <td>281</td>\n",
       "      <td>142,450</td>\n",
       "      <td>4,466</td>\n",
       "      <td>75,714</td>\n",
       "      <td>2,500 (3%)</td>\n",
       "      <td>75,714</td>\n",
       "      <td>10%</td>\n",
       "      <td>1,528,833</td>\n",
       "      <td>73,527</td>\n",
       "    </tr>\n",
       "  </tbody>\n",
       "</table>\n",
       "</div>"
      ],
      "text/plain": [
       "         Country Total confirmed Total_confirmed_today Total_deaths  \\\n",
       "0  united-states       1,129,882                35,152       65,724   \n",
       "1          spain         242,988                 3,349       24,824   \n",
       "\n",
       "  Total_deaths_today Total_Recoveries Total_Recoveries_today Active_confirmed  \\\n",
       "0              1,883          161,551                  9,227          902,607   \n",
       "1                281          142,450                  4,466           75,714   \n",
       "\n",
       "      Critical Mortality_close Mortality_confirmed Total_tests  \\\n",
       "0  16,478 (2%)         902,607                  6%   6,690,837   \n",
       "1   2,500 (3%)          75,714                 10%   1,528,833   \n",
       "\n",
       "  Total_tests_today  \n",
       "0           314,371  \n",
       "1            73,527  "
      ]
     },
     "execution_count": 19,
     "metadata": {},
     "output_type": "execute_result"
    }
   ],
   "source": [
    "worldwide_May_11pm.head(2)"
   ]
  },
  {
   "cell_type": "code",
   "execution_count": 20,
   "metadata": {},
   "outputs": [],
   "source": [
    "#Dropping columns we wont need for this analysis\n",
    "worldwide_May_11pm = worldwide_May_11pm.drop(['Critical','Mortality_close','Mortality_confirmed','Total_tests','Total_tests_today','Active_confirmed'],axis=1)"
   ]
  },
  {
   "cell_type": "code",
   "execution_count": 68,
   "metadata": {},
   "outputs": [
    {
     "name": "stdout",
     "output_type": "stream",
     "text": [
      "<class 'pandas.core.frame.DataFrame'>\n",
      "RangeIndex: 5178 entries, 0 to 5177\n",
      "Data columns (total 7 columns):\n",
      " #   Column                  Non-Null Count  Dtype \n",
      "---  ------                  --------------  ----- \n",
      " 0   Country                 5178 non-null   object\n",
      " 1   Total confirmed         5178 non-null   object\n",
      " 2   Total_confirmed_today   5178 non-null   object\n",
      " 3   Total_deaths            5178 non-null   object\n",
      " 4   Total_deaths_today      5178 non-null   object\n",
      " 5   Total_Recoveries        5178 non-null   object\n",
      " 6   Total_Recoveries_today  5178 non-null   object\n",
      "dtypes: object(7)\n",
      "memory usage: 283.3+ KB\n"
     ]
    }
   ],
   "source": [
    "worldwide_May_11pm= worldwide_May_11pm.reset_index(drop= True)\n",
    "worldwide_May_11pm.info()"
   ]
  },
  {
   "cell_type": "code",
   "execution_count": 69,
   "metadata": {},
   "outputs": [
    {
     "name": "stdout",
     "output_type": "stream",
     "text": [
      "<class 'pandas.core.frame.DataFrame'>\n",
      "RangeIndex: 3950 entries, 0 to 3949\n",
      "Data columns (total 7 columns):\n",
      " #   Column                  Non-Null Count  Dtype \n",
      "---  ------                  --------------  ----- \n",
      " 0   Country                 3950 non-null   object\n",
      " 1   Total confirmed         3950 non-null   object\n",
      " 2   Total_confirmed_today   3950 non-null   object\n",
      " 3   Total_deaths            3950 non-null   object\n",
      " 4   Total_deaths_today      3950 non-null   object\n",
      " 5   Total_Recoveries        3950 non-null   object\n",
      " 6   Total_Recoveries_today  3950 non-null   object\n",
      "dtypes: object(7)\n",
      "memory usage: 216.1+ KB\n"
     ]
    }
   ],
   "source": [
    "#drop duplicates\n",
    "worldwide_May_11pm = worldwide_May_11pm.drop_duplicates()\n",
    "worldwide_May_11pm= worldwide_May_11pm.reset_index(drop= True)\n",
    "#From the result we'll be able to see whether or not all columns have complete data in them.\n",
    "worldwide_May_11pm.info()"
   ]
  },
  {
   "cell_type": "code",
   "execution_count": 70,
   "metadata": {},
   "outputs": [
    {
     "data": {
      "text/html": [
       "<div>\n",
       "<style scoped>\n",
       "    .dataframe tbody tr th:only-of-type {\n",
       "        vertical-align: middle;\n",
       "    }\n",
       "\n",
       "    .dataframe tbody tr th {\n",
       "        vertical-align: top;\n",
       "    }\n",
       "\n",
       "    .dataframe thead th {\n",
       "        text-align: right;\n",
       "    }\n",
       "</style>\n",
       "<table border=\"1\" class=\"dataframe\">\n",
       "  <thead>\n",
       "    <tr style=\"text-align: right;\">\n",
       "      <th></th>\n",
       "      <th>country</th>\n",
       "      <th>total_confirmed</th>\n",
       "      <th>total_confirmed_today</th>\n",
       "      <th>total_deaths</th>\n",
       "      <th>total_deaths_today</th>\n",
       "      <th>total_recoveries</th>\n",
       "      <th>total_recoveries_today</th>\n",
       "    </tr>\n",
       "  </thead>\n",
       "  <tbody>\n",
       "    <tr>\n",
       "      <th>0</th>\n",
       "      <td>united-states</td>\n",
       "      <td>1,129,882</td>\n",
       "      <td>35,152</td>\n",
       "      <td>65,724</td>\n",
       "      <td>1,883</td>\n",
       "      <td>161,551</td>\n",
       "      <td>9,227</td>\n",
       "    </tr>\n",
       "    <tr>\n",
       "      <th>1</th>\n",
       "      <td>spain</td>\n",
       "      <td>242,988</td>\n",
       "      <td>3,349</td>\n",
       "      <td>24,824</td>\n",
       "      <td>281</td>\n",
       "      <td>142,450</td>\n",
       "      <td>4,466</td>\n",
       "    </tr>\n",
       "  </tbody>\n",
       "</table>\n",
       "</div>"
      ],
      "text/plain": [
       "         country total_confirmed total_confirmed_today total_deaths  \\\n",
       "0  united-states       1,129,882                35,152       65,724   \n",
       "1          spain         242,988                 3,349       24,824   \n",
       "\n",
       "  total_deaths_today total_recoveries total_recoveries_today  \n",
       "0              1,883          161,551                  9,227  \n",
       "1                281          142,450                  4,466  "
      ]
     },
     "execution_count": 70,
     "metadata": {},
     "output_type": "execute_result"
    }
   ],
   "source": [
    "#convert all column headers to lowercase and add an underscore\n",
    "worldwide_May_11pm .columns = [line.lower().replace(' ','_') for line in worldwide_May_11pm .columns]\n",
    "worldwide_May_11pm.head(2)"
   ]
  },
  {
   "cell_type": "code",
   "execution_count": 71,
   "metadata": {},
   "outputs": [],
   "source": [
    "worldwide_May_11pm=worldwide_May_11pm.fillna(0)\n",
    "worldwide_May_11pm= worldwide_May_11pm.reset_index(drop= True)"
   ]
  },
  {
   "cell_type": "code",
   "execution_count": 72,
   "metadata": {},
   "outputs": [],
   "source": [
    "worldwide_May_11pm['total_confirmed_today']=worldwide_May_11pm['total_confirmed_today'].str.replace(',', '')\n",
    "worldwide_May_11pm['total_confirmed_today']=worldwide_May_11pm['total_confirmed_today'].fillna(0)\n",
    "worldwide_May_11pm['total_confirmed_today']=worldwide_May_11pm['total_confirmed_today'].astype(int)\n",
    "worldwide_May_11pm= worldwide_May_11pm.reset_index(drop= True)"
   ]
  },
  {
   "cell_type": "code",
   "execution_count": 73,
   "metadata": {},
   "outputs": [],
   "source": [
    "worldwide_May_11pm['total_confirmed']=worldwide_May_11pm['total_confirmed'].str.replace(',', '')\n",
    "worldwide_May_11pm['total_confirmed']=worldwide_May_11pm['total_confirmed'].fillna(0)\n",
    "worldwide_May_11pm['total_confirmed']=worldwide_May_11pm['total_confirmed'].astype(int)"
   ]
  },
  {
   "cell_type": "code",
   "execution_count": 74,
   "metadata": {},
   "outputs": [],
   "source": [
    "worldwide_May_11pm['country']=worldwide_May_11pm['country'].replace('united-states','USA')"
   ]
  },
  {
   "cell_type": "code",
   "execution_count": 75,
   "metadata": {},
   "outputs": [
    {
     "name": "stdout",
     "output_type": "stream",
     "text": [
      "Total number of cases in May for US = 555285\n"
     ]
    }
   ],
   "source": [
    "US_cases_May = worldwide_May_11pm[worldwide_May_11pm['country']=='USA']\n",
    "US_cases_May = US_cases_May['total_confirmed'].max() - US_cases_May['total_confirmed'].min()\n",
    "print(f\"Total number of cases in May for US = {US_cases_May}\")"
   ]
  },
  {
   "cell_type": "code",
   "execution_count": 76,
   "metadata": {},
   "outputs": [
    {
     "name": "stdout",
     "output_type": "stream",
     "text": [
      "Total number of cases in May for Germany = 16251\n"
     ]
    }
   ],
   "source": [
    "Germany_cases_May = worldwide_May_11pm[worldwide_May_11pm['country']=='germany']\n",
    "Germany_cases_May = Germany_cases_May['total_confirmed'].max() - Germany_cases_May['total_confirmed'].min()\n",
    "print(f\"Total number of cases in May for Germany = {Germany_cases_May}\")"
   ]
  },
  {
   "cell_type": "code",
   "execution_count": 77,
   "metadata": {},
   "outputs": [
    {
     "data": {
      "text/html": [
       "<div>\n",
       "<style scoped>\n",
       "    .dataframe tbody tr th:only-of-type {\n",
       "        vertical-align: middle;\n",
       "    }\n",
       "\n",
       "    .dataframe tbody tr th {\n",
       "        vertical-align: top;\n",
       "    }\n",
       "\n",
       "    .dataframe thead th {\n",
       "        text-align: right;\n",
       "    }\n",
       "</style>\n",
       "<table border=\"1\" class=\"dataframe\">\n",
       "  <thead>\n",
       "    <tr style=\"text-align: right;\">\n",
       "      <th></th>\n",
       "      <th>Total cases in May</th>\n",
       "    </tr>\n",
       "    <tr>\n",
       "      <th>Country</th>\n",
       "      <th></th>\n",
       "    </tr>\n",
       "  </thead>\n",
       "  <tbody>\n",
       "    <tr>\n",
       "      <th>US</th>\n",
       "      <td>555285</td>\n",
       "    </tr>\n",
       "    <tr>\n",
       "      <th>Germany</th>\n",
       "      <td>16251</td>\n",
       "    </tr>\n",
       "  </tbody>\n",
       "</table>\n",
       "</div>"
      ],
      "text/plain": [
       "         Total cases in May\n",
       "Country                    \n",
       "US                   555285\n",
       "Germany               16251"
      ]
     },
     "execution_count": 77,
     "metadata": {},
     "output_type": "execute_result"
    }
   ],
   "source": [
    "df1 = pd.DataFrame({'Country':['US','Germany'],\n",
    "                   'Total cases in May':[US_cases_May,Germany_cases_May]\n",
    "                   })\n",
    "df1.set_index('Country')"
   ]
  },
  {
   "cell_type": "code",
   "execution_count": 78,
   "metadata": {},
   "outputs": [
    {
     "data": {
      "image/svg+xml": [
       "<svg class=\"main-svg\" xmlns=\"http://www.w3.org/2000/svg\" xmlns:xlink=\"http://www.w3.org/1999/xlink\" width=\"700\" height=\"450\" style=\"\" viewBox=\"0 0 700 450\"><rect x=\"0\" y=\"0\" width=\"700\" height=\"450\" style=\"fill: rgb(255, 255, 255); fill-opacity: 1;\"/><defs id=\"defs-b7244f\"><g class=\"clips\"><clipPath id=\"clipb7244fxyplot\" class=\"plotclip\"><rect width=\"469\" height=\"270\"/></clipPath><clipPath class=\"axesclip\" id=\"clipb7244fx\"><rect x=\"80\" y=\"0\" width=\"469\" height=\"450\"/></clipPath><clipPath class=\"axesclip\" id=\"clipb7244fy\"><rect x=\"0\" y=\"100\" width=\"700\" height=\"270\"/></clipPath><clipPath class=\"axesclip\" id=\"clipb7244fxy\"><rect x=\"80\" y=\"100\" width=\"469\" height=\"270\"/></clipPath></g><g class=\"gradients\"><linearGradient x1=\"0\" x2=\"0\" y1=\"1\" y2=\"0\" id=\"gb7244f-cbcoloraxis\"><stop offset=\"0%\" stop-color=\"rgb(13, 8, 135)\" stop-opacity=\"1\"/><stop offset=\"11.11111111111111%\" stop-color=\"rgb(70, 3, 159)\" stop-opacity=\"1\"/><stop offset=\"22.22222222222222%\" stop-color=\"rgb(114, 1, 168)\" stop-opacity=\"1\"/><stop offset=\"33.33333333333333%\" stop-color=\"rgb(156, 23, 158)\" stop-opacity=\"1\"/><stop offset=\"44.44444444444444%\" stop-color=\"rgb(189, 55, 134)\" stop-opacity=\"1\"/><stop offset=\"55.55555555555556%\" stop-color=\"rgb(216, 87, 107)\" stop-opacity=\"1\"/><stop offset=\"66.66666666666666%\" stop-color=\"rgb(237, 121, 83)\" stop-opacity=\"1\"/><stop offset=\"77.77777777777779%\" stop-color=\"rgb(251, 159, 58)\" stop-opacity=\"1\"/><stop offset=\"88.88888888888889%\" stop-color=\"rgb(253, 202, 38)\" stop-opacity=\"1\"/><stop offset=\"100%\" stop-color=\"rgb(240, 249, 33)\" stop-opacity=\"1\"/></linearGradient></g></defs><g class=\"bglayer\"><rect class=\"bg\" x=\"80\" y=\"100\" width=\"469\" height=\"270\" style=\"fill: rgb(229, 236, 246); fill-opacity: 1; stroke-width: 0;\"/></g><g class=\"layer-below\"><g class=\"imagelayer\"/><g class=\"shapelayer\"/></g><g class=\"cartesianlayer\"><g class=\"subplot xy\"><g class=\"layer-subplot\"><g class=\"shapelayer\"/><g class=\"imagelayer\"/></g><g class=\"gridlayer\"><g class=\"x\"/><g class=\"y\"><path class=\"ygrid crisp\" transform=\"translate(0,323.81)\" d=\"M80,0h469\" style=\"stroke: rgb(255, 255, 255); stroke-opacity: 1; stroke-width: 1px;\"/><path class=\"ygrid crisp\" transform=\"translate(0,277.62)\" d=\"M80,0h469\" style=\"stroke: rgb(255, 255, 255); stroke-opacity: 1; stroke-width: 1px;\"/><path class=\"ygrid crisp\" transform=\"translate(0,231.42)\" d=\"M80,0h469\" style=\"stroke: rgb(255, 255, 255); stroke-opacity: 1; stroke-width: 1px;\"/><path class=\"ygrid crisp\" transform=\"translate(0,185.23000000000002)\" d=\"M80,0h469\" style=\"stroke: rgb(255, 255, 255); stroke-opacity: 1; stroke-width: 1px;\"/><path class=\"ygrid crisp\" transform=\"translate(0,139.04)\" d=\"M80,0h469\" style=\"stroke: rgb(255, 255, 255); stroke-opacity: 1; stroke-width: 1px;\"/></g></g><g class=\"zerolinelayer\"><path class=\"yzl zl crisp\" transform=\"translate(0,370)\" d=\"M80,0h469\" style=\"stroke: rgb(255, 255, 255); stroke-opacity: 1; stroke-width: 2px;\"/></g><path class=\"xlines-below\"/><path class=\"ylines-below\"/><g class=\"overlines-below\"/><g class=\"xaxislayer-below\"/><g class=\"yaxislayer-below\"/><g class=\"overaxes-below\"/><g class=\"plot\" transform=\"translate(80, 100)\" clip-path=\"url('#clipb7244fxyplot')\"><g class=\"barlayer mlayer\"><g class=\"trace bars\" style=\"opacity: 1;\"><g class=\"points\"><g class=\"point\"><path d=\"M23.45,270V13.5H211.05V270Z\" style=\"vector-effect: non-scaling-stroke; opacity: 1; stroke-width: 0.5px; fill: rgb(240, 249, 33); fill-opacity: 1; stroke: rgb(229, 236, 246); stroke-opacity: 1;\"/></g><g class=\"point\"><path d=\"M257.95,270V262.49H445.55V270Z\" style=\"vector-effect: non-scaling-stroke; opacity: 1; stroke-width: 0.5px; fill: rgb(13, 8, 135); fill-opacity: 1; stroke: rgb(229, 236, 246); stroke-opacity: 1;\"/></g></g></g></g></g><g class=\"overplot\"/><path class=\"xlines-above crisp\" style=\"fill: none;\" d=\"M0,0\"/><path class=\"ylines-above crisp\" style=\"fill: none;\" d=\"M0,0\"/><g class=\"overlines-above\"/><g class=\"xaxislayer-above\"><g class=\"xtick\"><text text-anchor=\"middle\" x=\"0\" y=\"383\" transform=\"translate(197.25,0)\" style=\"font-family: 'Open Sans', verdana, arial, sans-serif; font-size: 12px; fill: rgb(42, 63, 95); fill-opacity: 1; white-space: pre;\">US</text></g><g class=\"xtick\"><text text-anchor=\"middle\" x=\"0\" y=\"383\" transform=\"translate(431.75,0)\" style=\"font-family: 'Open Sans', verdana, arial, sans-serif; font-size: 12px; fill: rgb(42, 63, 95); fill-opacity: 1; white-space: pre;\">Germany</text></g></g><g class=\"yaxislayer-above\"><g class=\"ytick\"><text text-anchor=\"end\" x=\"79\" y=\"4.199999999999999\" transform=\"translate(0,370)\" style=\"font-family: 'Open Sans', verdana, arial, sans-serif; font-size: 12px; fill: rgb(42, 63, 95); fill-opacity: 1; white-space: pre;\">0</text></g><g class=\"ytick\"><text text-anchor=\"end\" x=\"79\" y=\"4.199999999999999\" transform=\"translate(0,323.81)\" style=\"font-family: 'Open Sans', verdana, arial, sans-serif; font-size: 12px; fill: rgb(42, 63, 95); fill-opacity: 1; white-space: pre;\">100k</text></g><g class=\"ytick\"><text text-anchor=\"end\" x=\"79\" y=\"4.199999999999999\" transform=\"translate(0,277.62)\" style=\"font-family: 'Open Sans', verdana, arial, sans-serif; font-size: 12px; fill: rgb(42, 63, 95); fill-opacity: 1; white-space: pre;\">200k</text></g><g class=\"ytick\"><text text-anchor=\"end\" x=\"79\" y=\"4.199999999999999\" transform=\"translate(0,231.42)\" style=\"font-family: 'Open Sans', verdana, arial, sans-serif; font-size: 12px; fill: rgb(42, 63, 95); fill-opacity: 1; white-space: pre;\">300k</text></g><g class=\"ytick\"><text text-anchor=\"end\" x=\"79\" y=\"4.199999999999999\" transform=\"translate(0,185.23000000000002)\" style=\"font-family: 'Open Sans', verdana, arial, sans-serif; font-size: 12px; fill: rgb(42, 63, 95); fill-opacity: 1; white-space: pre;\">400k</text></g><g class=\"ytick\"><text text-anchor=\"end\" x=\"79\" y=\"4.199999999999999\" transform=\"translate(0,139.04)\" style=\"font-family: 'Open Sans', verdana, arial, sans-serif; font-size: 12px; fill: rgb(42, 63, 95); fill-opacity: 1; white-space: pre;\">500k</text></g></g><g class=\"overaxes-above\"/></g></g><g class=\"polarlayer\"/><g class=\"ternarylayer\"/><g class=\"geolayer\"/><g class=\"funnelarealayer\"/><g class=\"pielayer\"/><g class=\"treemaplayer\"/><g class=\"sunburstlayer\"/><g class=\"glimages\"/><defs id=\"topdefs-b7244f\"><g class=\"clips\"/></defs><g class=\"layer-above\"><g class=\"imagelayer\"/><g class=\"shapelayer\"/></g><g class=\"infolayer\"><g class=\"cbcoloraxis colorbar\" transform=\"translate(80,100)\"><rect class=\"cbbg\" x=\"478\" y=\"0\" width=\"130.078125\" height=\"270\" style=\"fill: rgb(0, 0, 0); fill-opacity: 0; stroke: rgb(68, 68, 68); stroke-opacity: 1; stroke-width: 0;\"/><g class=\"cbfills\" transform=\"translate(0,29)\"><rect class=\"cbfill\" x=\"488\" width=\"30\" y=\"0\" height=\"231\" style=\"stroke: none; fill: url('#gb7244f-cbcoloraxis');\"/></g><g class=\"cblines\" transform=\"translate(0,29)\"/><g class=\"cbaxis crisp\" transform=\"translate(0,-100)\"><g class=\"ycbcoloraxistick\"><text text-anchor=\"start\" x=\"520.9\" y=\"4.199999999999999\" transform=\"translate(0,324.17625)\" style=\"font-family: 'Open Sans', verdana, arial, sans-serif; font-size: 12px; fill: rgb(42, 63, 95); fill-opacity: 1; white-space: pre;\">100k</text></g><g class=\"ycbcoloraxistick\"><text text-anchor=\"start\" x=\"520.9\" y=\"4.199999999999999\" transform=\"translate(0,281.39625)\" style=\"font-family: 'Open Sans', verdana, arial, sans-serif; font-size: 12px; fill: rgb(42, 63, 95); fill-opacity: 1; white-space: pre;\">200k</text></g><g class=\"ycbcoloraxistick\"><text text-anchor=\"start\" x=\"520.9\" y=\"4.199999999999999\" transform=\"translate(0,238.61624999999998)\" style=\"font-family: 'Open Sans', verdana, arial, sans-serif; font-size: 12px; fill: rgb(42, 63, 95); fill-opacity: 1; white-space: pre;\">300k</text></g><g class=\"ycbcoloraxistick\"><text text-anchor=\"start\" x=\"520.9\" y=\"4.199999999999999\" transform=\"translate(0,195.83625)\" style=\"font-family: 'Open Sans', verdana, arial, sans-serif; font-size: 12px; fill: rgb(42, 63, 95); fill-opacity: 1; white-space: pre;\">400k</text></g><g class=\"ycbcoloraxistick\"><text text-anchor=\"start\" x=\"520.9\" y=\"4.199999999999999\" transform=\"translate(0,153.05625)\" style=\"font-family: 'Open Sans', verdana, arial, sans-serif; font-size: 12px; fill: rgb(42, 63, 95); fill-opacity: 1; white-space: pre;\">500k</text></g></g><g class=\"cbtitleunshift\" transform=\"translate(-80,-100)\"><g class=\"cbtitle\" transform=\"translate(0,0)\"><text class=\"ycbcoloraxistitle\" x=\"568.3800000000001\" y=\"121.99999999999999\" text-anchor=\"start\" style=\"font-family: 'Open Sans', verdana, arial, sans-serif; font-size: 12px; fill: rgb(42, 63, 95); opacity: 1; font-weight: normal; white-space: pre;\">Total cases in May</text></g></g><rect class=\"cboutline\" x=\"488\" y=\"29.40625\" width=\"30\" height=\"230.59375\" style=\"stroke: rgb(68, 68, 68); stroke-opacity: 1; fill: none; stroke-width: 0;\"/></g><g class=\"g-gtitle\"><text class=\"gtitle\" x=\"35\" y=\"50\" text-anchor=\"start\" dy=\"0em\" style=\"font-family: 'Open Sans', verdana, arial, sans-serif; font-size: 17px; fill: rgb(42, 63, 95); opacity: 1; font-weight: normal; white-space: pre;\">US vs Germany cases in May</text></g><g class=\"g-xtitle\"><text class=\"xtitle\" x=\"314.5\" y=\"410.20625\" text-anchor=\"middle\" style=\"font-family: 'Open Sans', verdana, arial, sans-serif; font-size: 14px; fill: rgb(42, 63, 95); opacity: 1; font-weight: normal; white-space: pre;\">Country</text></g><g class=\"g-ytitle\"><text class=\"ytitle\" transform=\"rotate(-90,24.200000000000003,235)\" x=\"24.200000000000003\" y=\"235\" text-anchor=\"middle\" style=\"font-family: 'Open Sans', verdana, arial, sans-serif; font-size: 14px; fill: rgb(42, 63, 95); opacity: 1; font-weight: normal; white-space: pre;\">Total cases in May</text></g></g></svg>"
      ]
     },
     "metadata": {},
     "output_type": "display_data"
    }
   ],
   "source": [
    "fig = px.bar(df1, x='Country', y='Total cases in May',\n",
    "             color='Total cases in May',\n",
    "             labels={'US':'Germany'}, title = \"US vs Germany cases in May\",height=450)\n",
    "fig.show(renderer='svg')"
   ]
  },
  {
   "cell_type": "markdown",
   "metadata": {},
   "source": [
    "#### Question 4: Using the covid_other data, how many cases did Italy and Russia each record in April?"
   ]
  },
  {
   "cell_type": "code",
   "execution_count": 79,
   "metadata": {},
   "outputs": [
    {
     "data": {
      "text/html": [
       "<div>\n",
       "<style scoped>\n",
       "    .dataframe tbody tr th:only-of-type {\n",
       "        vertical-align: middle;\n",
       "    }\n",
       "\n",
       "    .dataframe tbody tr th {\n",
       "        vertical-align: top;\n",
       "    }\n",
       "\n",
       "    .dataframe thead th {\n",
       "        text-align: right;\n",
       "    }\n",
       "</style>\n",
       "<table border=\"1\" class=\"dataframe\">\n",
       "  <thead>\n",
       "    <tr style=\"text-align: right;\">\n",
       "      <th></th>\n",
       "      <th>countries</th>\n",
       "      <th>infected</th>\n",
       "      <th>deaths</th>\n",
       "      <th>recovered</th>\n",
       "      <th>active</th>\n",
       "      <th>death_rate</th>\n",
       "      <th>recovery_rate</th>\n",
       "      <th>infected_today</th>\n",
       "      <th>deaths_today</th>\n",
       "      <th>recovered_today</th>\n",
       "      <th>critical</th>\n",
       "      <th>tests</th>\n",
       "    </tr>\n",
       "  </thead>\n",
       "  <tbody>\n",
       "    <tr>\n",
       "      <th>0</th>\n",
       "      <td>United States</td>\n",
       "      <td>244190</td>\n",
       "      <td>5883</td>\n",
       "      <td>10400</td>\n",
       "      <td>227907</td>\n",
       "      <td>2.4</td>\n",
       "      <td>4.3</td>\n",
       "      <td>NaN</td>\n",
       "      <td>NaN</td>\n",
       "      <td>NaN</td>\n",
       "      <td>NaN</td>\n",
       "      <td>NaN</td>\n",
       "    </tr>\n",
       "    <tr>\n",
       "      <th>1</th>\n",
       "      <td>Italy</td>\n",
       "      <td>115242</td>\n",
       "      <td>13915</td>\n",
       "      <td>18278</td>\n",
       "      <td>83049</td>\n",
       "      <td>12.1</td>\n",
       "      <td>15.9</td>\n",
       "      <td>NaN</td>\n",
       "      <td>NaN</td>\n",
       "      <td>NaN</td>\n",
       "      <td>NaN</td>\n",
       "      <td>NaN</td>\n",
       "    </tr>\n",
       "  </tbody>\n",
       "</table>\n",
       "</div>"
      ],
      "text/plain": [
       "       countries  infected  deaths  recovered  active  death_rate  \\\n",
       "0  United States    244190    5883      10400  227907         2.4   \n",
       "1          Italy    115242   13915      18278   83049        12.1   \n",
       "\n",
       "   recovery_rate  infected_today  deaths_today  recovered_today  critical  \\\n",
       "0            4.3             NaN           NaN              NaN       NaN   \n",
       "1           15.9             NaN           NaN              NaN       NaN   \n",
       "\n",
       "   tests  \n",
       "0    NaN  \n",
       "1    NaN  "
      ]
     },
     "execution_count": 79,
     "metadata": {},
     "output_type": "execute_result"
    }
   ],
   "source": [
    "covid_Apr_other.head(2)"
   ]
  },
  {
   "cell_type": "code",
   "execution_count": 80,
   "metadata": {},
   "outputs": [],
   "source": [
    "#Dropping columns we wont need for this analysis\n",
    "covid_Apr_other = covid_Apr_other.drop(['active','critical','deaths_today','tests','recovered_today','recovery_rate'],axis=1)"
   ]
  },
  {
   "cell_type": "code",
   "execution_count": 81,
   "metadata": {},
   "outputs": [
    {
     "name": "stdout",
     "output_type": "stream",
     "text": [
      "<class 'pandas.core.frame.DataFrame'>\n",
      "RangeIndex: 5965 entries, 0 to 5964\n",
      "Data columns (total 6 columns):\n",
      " #   Column          Non-Null Count  Dtype  \n",
      "---  ------          --------------  -----  \n",
      " 0   countries       5965 non-null   object \n",
      " 1   infected        5965 non-null   int64  \n",
      " 2   deaths          5965 non-null   int64  \n",
      " 3   recovered       5965 non-null   int64  \n",
      " 4   death_rate      5965 non-null   float64\n",
      " 5   infected_today  5128 non-null   float64\n",
      "dtypes: float64(2), int64(3), object(1)\n",
      "memory usage: 279.7+ KB\n"
     ]
    }
   ],
   "source": [
    "covid_Apr_other= covid_Apr_other.reset_index(drop= True)\n",
    "covid_Apr_other.info()"
   ]
  },
  {
   "cell_type": "code",
   "execution_count": 82,
   "metadata": {},
   "outputs": [
    {
     "name": "stdout",
     "output_type": "stream",
     "text": [
      "<class 'pandas.core.frame.DataFrame'>\n",
      "Int64Index: 3725 entries, 0 to 5960\n",
      "Data columns (total 6 columns):\n",
      " #   Column          Non-Null Count  Dtype  \n",
      "---  ------          --------------  -----  \n",
      " 0   countries       3725 non-null   object \n",
      " 1   infected        3725 non-null   int64  \n",
      " 2   deaths          3725 non-null   int64  \n",
      " 3   recovered       3725 non-null   int64  \n",
      " 4   death_rate      3725 non-null   float64\n",
      " 5   infected_today  3112 non-null   float64\n",
      "dtypes: float64(2), int64(3), object(1)\n",
      "memory usage: 203.7+ KB\n"
     ]
    }
   ],
   "source": [
    "#drop duplicates\n",
    "covid_Apr_other = covid_Apr_other.drop_duplicates()\n",
    "#From the result we'll be able to see whether or not all columns have complete data in them.\n",
    "covid_Apr_other.info()"
   ]
  },
  {
   "cell_type": "code",
   "execution_count": 83,
   "metadata": {},
   "outputs": [],
   "source": [
    "covid_Apr_other=covid_Apr_other.fillna(0)\n",
    "covid_Apr_other= covid_Apr_other.reset_index(drop= True)"
   ]
  },
  {
   "cell_type": "code",
   "execution_count": 84,
   "metadata": {},
   "outputs": [
    {
     "name": "stdout",
     "output_type": "stream",
     "text": [
      "Total number of cases in April for Italy= 88349\n"
     ]
    }
   ],
   "source": [
    "Italy_cases_Apr = covid_Apr_other[covid_Apr_other['countries']=='Italy']\n",
    "Italy_cases_Apr = Italy_cases_Apr['infected'].max() - Italy_cases_Apr['infected'].min()\n",
    "print(f\"Total number of cases in April for Italy= {Italy_cases_Apr}\")"
   ]
  },
  {
   "cell_type": "code",
   "execution_count": 85,
   "metadata": {},
   "outputs": [
    {
     "name": "stdout",
     "output_type": "stream",
     "text": [
      "Total number of cases in April for Russia= 102950\n"
     ]
    }
   ],
   "source": [
    "Russia_cases_Apr = covid_Apr_other[covid_Apr_other['countries']=='Russia']\n",
    "Russia_cases_Apr = Russia_cases_Apr['infected'].max() - Russia_cases_Apr['infected'].min()\n",
    "print(f\"Total number of cases in April for Russia= {Russia_cases_Apr}\")"
   ]
  },
  {
   "cell_type": "code",
   "execution_count": 86,
   "metadata": {},
   "outputs": [
    {
     "data": {
      "text/html": [
       "<div>\n",
       "<style scoped>\n",
       "    .dataframe tbody tr th:only-of-type {\n",
       "        vertical-align: middle;\n",
       "    }\n",
       "\n",
       "    .dataframe tbody tr th {\n",
       "        vertical-align: top;\n",
       "    }\n",
       "\n",
       "    .dataframe thead th {\n",
       "        text-align: right;\n",
       "    }\n",
       "</style>\n",
       "<table border=\"1\" class=\"dataframe\">\n",
       "  <thead>\n",
       "    <tr style=\"text-align: right;\">\n",
       "      <th></th>\n",
       "      <th>Total cases in April</th>\n",
       "    </tr>\n",
       "    <tr>\n",
       "      <th>Country</th>\n",
       "      <th></th>\n",
       "    </tr>\n",
       "  </thead>\n",
       "  <tbody>\n",
       "    <tr>\n",
       "      <th>Italy</th>\n",
       "      <td>88349</td>\n",
       "    </tr>\n",
       "    <tr>\n",
       "      <th>Russia</th>\n",
       "      <td>102950</td>\n",
       "    </tr>\n",
       "  </tbody>\n",
       "</table>\n",
       "</div>"
      ],
      "text/plain": [
       "         Total cases in April\n",
       "Country                      \n",
       "Italy                   88349\n",
       "Russia                 102950"
      ]
     },
     "execution_count": 86,
     "metadata": {},
     "output_type": "execute_result"
    }
   ],
   "source": [
    "df2 = pd.DataFrame({'Country':['Italy','Russia'],\n",
    "                   'Total cases in April':[Italy_cases_Apr,Russia_cases_Apr]\n",
    "                   })\n",
    "df2.set_index('Country')"
   ]
  },
  {
   "cell_type": "code",
   "execution_count": 87,
   "metadata": {},
   "outputs": [
    {
     "data": {
      "image/svg+xml": [
       "<svg class=\"main-svg\" xmlns=\"http://www.w3.org/2000/svg\" xmlns:xlink=\"http://www.w3.org/1999/xlink\" width=\"700\" height=\"450\" style=\"\" viewBox=\"0 0 700 450\"><rect x=\"0\" y=\"0\" width=\"700\" height=\"450\" style=\"fill: rgb(255, 255, 255); fill-opacity: 1;\"/><defs id=\"defs-1ac576\"><g class=\"clips\"><clipPath id=\"clip1ac576xyplot\" class=\"plotclip\"><rect width=\"466\" height=\"270\"/></clipPath><clipPath class=\"axesclip\" id=\"clip1ac576x\"><rect x=\"80\" y=\"0\" width=\"466\" height=\"450\"/></clipPath><clipPath class=\"axesclip\" id=\"clip1ac576y\"><rect x=\"0\" y=\"100\" width=\"700\" height=\"270\"/></clipPath><clipPath class=\"axesclip\" id=\"clip1ac576xy\"><rect x=\"80\" y=\"100\" width=\"466\" height=\"270\"/></clipPath></g><g class=\"gradients\"><linearGradient x1=\"0\" x2=\"0\" y1=\"1\" y2=\"0\" id=\"g1ac576-cbcoloraxis\"><stop offset=\"0%\" stop-color=\"rgb(13, 8, 135)\" stop-opacity=\"1\"/><stop offset=\"11.11111111111111%\" stop-color=\"rgb(70, 3, 159)\" stop-opacity=\"1\"/><stop offset=\"22.22222222222222%\" stop-color=\"rgb(114, 1, 168)\" stop-opacity=\"1\"/><stop offset=\"33.33333333333333%\" stop-color=\"rgb(156, 23, 158)\" stop-opacity=\"1\"/><stop offset=\"44.44444444444444%\" stop-color=\"rgb(189, 55, 134)\" stop-opacity=\"1\"/><stop offset=\"55.55555555555556%\" stop-color=\"rgb(216, 87, 107)\" stop-opacity=\"1\"/><stop offset=\"66.66666666666666%\" stop-color=\"rgb(237, 121, 83)\" stop-opacity=\"1\"/><stop offset=\"77.77777777777779%\" stop-color=\"rgb(251, 159, 58)\" stop-opacity=\"1\"/><stop offset=\"88.88888888888889%\" stop-color=\"rgb(253, 202, 38)\" stop-opacity=\"1\"/><stop offset=\"100%\" stop-color=\"rgb(240, 249, 33)\" stop-opacity=\"1\"/></linearGradient></g></defs><g class=\"bglayer\"><rect class=\"bg\" x=\"80\" y=\"100\" width=\"466\" height=\"270\" style=\"fill: rgb(229, 236, 246); fill-opacity: 1; stroke-width: 0;\"/></g><g class=\"layer-below\"><g class=\"imagelayer\"/><g class=\"shapelayer\"/></g><g class=\"cartesianlayer\"><g class=\"subplot xy\"><g class=\"layer-subplot\"><g class=\"shapelayer\"/><g class=\"imagelayer\"/></g><g class=\"gridlayer\"><g class=\"x\"/><g class=\"y\"><path class=\"ygrid crisp\" transform=\"translate(0,320.16999999999996)\" d=\"M80,0h466\" style=\"stroke: rgb(255, 255, 255); stroke-opacity: 1; stroke-width: 1px;\"/><path class=\"ygrid crisp\" transform=\"translate(0,270.34000000000003)\" d=\"M80,0h466\" style=\"stroke: rgb(255, 255, 255); stroke-opacity: 1; stroke-width: 1px;\"/><path class=\"ygrid crisp\" transform=\"translate(0,220.51)\" d=\"M80,0h466\" style=\"stroke: rgb(255, 255, 255); stroke-opacity: 1; stroke-width: 1px;\"/><path class=\"ygrid crisp\" transform=\"translate(0,170.68)\" d=\"M80,0h466\" style=\"stroke: rgb(255, 255, 255); stroke-opacity: 1; stroke-width: 1px;\"/><path class=\"ygrid crisp\" transform=\"translate(0,120.85)\" d=\"M80,0h466\" style=\"stroke: rgb(255, 255, 255); stroke-opacity: 1; stroke-width: 1px;\"/></g></g><g class=\"zerolinelayer\"><path class=\"yzl zl crisp\" transform=\"translate(0,370)\" d=\"M80,0h466\" style=\"stroke: rgb(255, 255, 255); stroke-opacity: 1; stroke-width: 2px;\"/></g><path class=\"xlines-below\"/><path class=\"ylines-below\"/><g class=\"overlines-below\"/><g class=\"xaxislayer-below\"/><g class=\"yaxislayer-below\"/><g class=\"overaxes-below\"/><g class=\"plot\" transform=\"translate(80, 100)\" clip-path=\"url('#clip1ac576xyplot')\"><g class=\"barlayer mlayer\"><g class=\"trace bars\" style=\"opacity: 1;\"><g class=\"points\"><g class=\"point\"><path d=\"M23.3,270V49.88H209.7V270Z\" style=\"vector-effect: non-scaling-stroke; opacity: 1; stroke-width: 0.5px; fill: rgb(13, 8, 135); fill-opacity: 1; stroke: rgb(229, 236, 246); stroke-opacity: 1;\"/></g><g class=\"point\"><path d=\"M256.3,270V13.5H442.7V270Z\" style=\"vector-effect: non-scaling-stroke; opacity: 1; stroke-width: 0.5px; fill: rgb(240, 249, 33); fill-opacity: 1; stroke: rgb(229, 236, 246); stroke-opacity: 1;\"/></g></g></g></g></g><g class=\"overplot\"/><path class=\"xlines-above crisp\" style=\"fill: none;\" d=\"M0,0\"/><path class=\"ylines-above crisp\" style=\"fill: none;\" d=\"M0,0\"/><g class=\"overlines-above\"/><g class=\"xaxislayer-above\"><g class=\"xtick\"><text text-anchor=\"middle\" x=\"0\" y=\"383\" transform=\"translate(196.5,0)\" style=\"font-family: 'Open Sans', verdana, arial, sans-serif; font-size: 12px; fill: rgb(42, 63, 95); fill-opacity: 1; white-space: pre;\">Italy</text></g><g class=\"xtick\"><text text-anchor=\"middle\" x=\"0\" y=\"383\" transform=\"translate(429.5,0)\" style=\"font-family: 'Open Sans', verdana, arial, sans-serif; font-size: 12px; fill: rgb(42, 63, 95); fill-opacity: 1; white-space: pre;\">Russia</text></g></g><g class=\"yaxislayer-above\"><g class=\"ytick\"><text text-anchor=\"end\" x=\"79\" y=\"4.199999999999999\" transform=\"translate(0,370)\" style=\"font-family: 'Open Sans', verdana, arial, sans-serif; font-size: 12px; fill: rgb(42, 63, 95); fill-opacity: 1; white-space: pre;\">0</text></g><g class=\"ytick\"><text text-anchor=\"end\" x=\"79\" y=\"4.199999999999999\" transform=\"translate(0,320.16999999999996)\" style=\"font-family: 'Open Sans', verdana, arial, sans-serif; font-size: 12px; fill: rgb(42, 63, 95); fill-opacity: 1; white-space: pre;\">20k</text></g><g class=\"ytick\"><text text-anchor=\"end\" x=\"79\" y=\"4.199999999999999\" transform=\"translate(0,270.34000000000003)\" style=\"font-family: 'Open Sans', verdana, arial, sans-serif; font-size: 12px; fill: rgb(42, 63, 95); fill-opacity: 1; white-space: pre;\">40k</text></g><g class=\"ytick\"><text text-anchor=\"end\" x=\"79\" y=\"4.199999999999999\" transform=\"translate(0,220.51)\" style=\"font-family: 'Open Sans', verdana, arial, sans-serif; font-size: 12px; fill: rgb(42, 63, 95); fill-opacity: 1; white-space: pre;\">60k</text></g><g class=\"ytick\"><text text-anchor=\"end\" x=\"79\" y=\"4.199999999999999\" transform=\"translate(0,170.68)\" style=\"font-family: 'Open Sans', verdana, arial, sans-serif; font-size: 12px; fill: rgb(42, 63, 95); fill-opacity: 1; white-space: pre;\">80k</text></g><g class=\"ytick\"><text text-anchor=\"end\" x=\"79\" y=\"4.199999999999999\" transform=\"translate(0,120.85)\" style=\"font-family: 'Open Sans', verdana, arial, sans-serif; font-size: 12px; fill: rgb(42, 63, 95); fill-opacity: 1; white-space: pre;\">100k</text></g></g><g class=\"overaxes-above\"/></g></g><g class=\"polarlayer\"/><g class=\"ternarylayer\"/><g class=\"geolayer\"/><g class=\"funnelarealayer\"/><g class=\"pielayer\"/><g class=\"treemaplayer\"/><g class=\"sunburstlayer\"/><g class=\"glimages\"/><defs id=\"topdefs-1ac576\"><g class=\"clips\"/></defs><g class=\"layer-above\"><g class=\"imagelayer\"/><g class=\"shapelayer\"/></g><g class=\"infolayer\"><g class=\"cbcoloraxis colorbar\" transform=\"translate(80,100)\"><rect class=\"cbbg\" x=\"475\" y=\"0\" width=\"132.984375\" height=\"270\" style=\"fill: rgb(0, 0, 0); fill-opacity: 0; stroke: rgb(68, 68, 68); stroke-opacity: 1; stroke-width: 0;\"/><g class=\"cbfills\" transform=\"translate(0,29)\"><rect class=\"cbfill\" x=\"485\" width=\"30\" y=\"0\" height=\"231\" style=\"stroke: none; fill: url('#g1ac576-cbcoloraxis');\"/></g><g class=\"cblines\" transform=\"translate(0,29)\"/><g class=\"cbaxis crisp\" transform=\"translate(0,-100)\"><g class=\"ycbcoloraxistick\"><text text-anchor=\"start\" x=\"517.9\" y=\"4.199999999999999\" transform=\"translate(0,333.92625)\" style=\"font-family: 'Open Sans', verdana, arial, sans-serif; font-size: 12px; fill: rgb(42, 63, 95); fill-opacity: 1; white-space: pre;\">90k</text></g><g class=\"ycbcoloraxistick\"><text text-anchor=\"start\" x=\"517.9\" y=\"4.199999999999999\" transform=\"translate(0,254.95625)\" style=\"font-family: 'Open Sans', verdana, arial, sans-serif; font-size: 12px; fill: rgb(42, 63, 95); fill-opacity: 1; white-space: pre;\">95k</text></g><g class=\"ycbcoloraxistick\"><text text-anchor=\"start\" x=\"517.9\" y=\"4.199999999999999\" transform=\"translate(0,175.99625)\" style=\"font-family: 'Open Sans', verdana, arial, sans-serif; font-size: 12px; fill: rgb(42, 63, 95); fill-opacity: 1; white-space: pre;\">100k</text></g></g><g class=\"cbtitleunshift\" transform=\"translate(-80,-100)\"><g class=\"cbtitle\" transform=\"translate(0,0)\"><text class=\"ycbcoloraxistitle\" x=\"565.3199999999999\" y=\"121.99999999999999\" text-anchor=\"start\" style=\"font-family: 'Open Sans', verdana, arial, sans-serif; font-size: 12px; fill: rgb(42, 63, 95); opacity: 1; font-weight: normal; white-space: pre;\">Total cases in April</text></g></g><rect class=\"cboutline\" x=\"485\" y=\"29.40625\" width=\"30\" height=\"230.59375\" style=\"stroke: rgb(68, 68, 68); stroke-opacity: 1; fill: none; stroke-width: 0;\"/></g><g class=\"g-gtitle\"><text class=\"gtitle\" x=\"35\" y=\"50\" text-anchor=\"start\" dy=\"0em\" style=\"font-family: 'Open Sans', verdana, arial, sans-serif; font-size: 17px; fill: rgb(42, 63, 95); opacity: 1; font-weight: normal; white-space: pre;\">Italy vs Russia cases in April</text></g><g class=\"g-xtitle\"><text class=\"xtitle\" x=\"313\" y=\"410.20625\" text-anchor=\"middle\" style=\"font-family: 'Open Sans', verdana, arial, sans-serif; font-size: 14px; fill: rgb(42, 63, 95); opacity: 1; font-weight: normal; white-space: pre;\">Country</text></g><g class=\"g-ytitle\"><text class=\"ytitle\" transform=\"rotate(-90,24.200000000000003,235)\" x=\"24.200000000000003\" y=\"235\" text-anchor=\"middle\" style=\"font-family: 'Open Sans', verdana, arial, sans-serif; font-size: 14px; fill: rgb(42, 63, 95); opacity: 1; font-weight: normal; white-space: pre;\">Total cases in April</text></g></g></svg>"
      ]
     },
     "metadata": {},
     "output_type": "display_data"
    }
   ],
   "source": [
    "fig1 = px.bar(df2, x='Country', y='Total cases in April',\n",
    "             color='Total cases in April',\n",
    "             labels={'Italy':'Russia'}, title = \"Italy vs Russia cases in April\",height=450)\n",
    "fig1.show(renderer='svg')"
   ]
  },
  {
   "cell_type": "markdown",
   "metadata": {},
   "source": [
    "#### Question 5: Using the covid_other data, how many cases did Italy and Russia each record in May?"
   ]
  },
  {
   "cell_type": "code",
   "execution_count": 88,
   "metadata": {},
   "outputs": [
    {
     "data": {
      "text/html": [
       "<div>\n",
       "<style scoped>\n",
       "    .dataframe tbody tr th:only-of-type {\n",
       "        vertical-align: middle;\n",
       "    }\n",
       "\n",
       "    .dataframe tbody tr th {\n",
       "        vertical-align: top;\n",
       "    }\n",
       "\n",
       "    .dataframe thead th {\n",
       "        text-align: right;\n",
       "    }\n",
       "</style>\n",
       "<table border=\"1\" class=\"dataframe\">\n",
       "  <thead>\n",
       "    <tr style=\"text-align: right;\">\n",
       "      <th></th>\n",
       "      <th>countries</th>\n",
       "      <th>infected</th>\n",
       "      <th>infected_today</th>\n",
       "      <th>deaths</th>\n",
       "      <th>deaths_today</th>\n",
       "      <th>recovered</th>\n",
       "      <th>recovered_today</th>\n",
       "      <th>active</th>\n",
       "      <th>critical</th>\n",
       "      <th>tests</th>\n",
       "      <th>death_rate</th>\n",
       "      <th>recovery_rate</th>\n",
       "    </tr>\n",
       "  </thead>\n",
       "  <tbody>\n",
       "    <tr>\n",
       "      <th>0</th>\n",
       "      <td>United States</td>\n",
       "      <td>1095304</td>\n",
       "      <td>574</td>\n",
       "      <td>63871</td>\n",
       "      <td>30</td>\n",
       "      <td>155737</td>\n",
       "      <td>3413</td>\n",
       "      <td>875696</td>\n",
       "      <td>15226</td>\n",
       "      <td>6391887</td>\n",
       "      <td>5.8</td>\n",
       "      <td>14.2</td>\n",
       "    </tr>\n",
       "    <tr>\n",
       "      <th>1</th>\n",
       "      <td>Spain</td>\n",
       "      <td>239639</td>\n",
       "      <td>0</td>\n",
       "      <td>24543</td>\n",
       "      <td>0</td>\n",
       "      <td>137984</td>\n",
       "      <td>0</td>\n",
       "      <td>77112</td>\n",
       "      <td>2676</td>\n",
       "      <td>1455306</td>\n",
       "      <td>10.2</td>\n",
       "      <td>57.6</td>\n",
       "    </tr>\n",
       "  </tbody>\n",
       "</table>\n",
       "</div>"
      ],
      "text/plain": [
       "       countries  infected  infected_today  deaths  deaths_today  recovered  \\\n",
       "0  United States   1095304             574   63871            30     155737   \n",
       "1          Spain    239639               0   24543             0     137984   \n",
       "\n",
       "   recovered_today  active  critical    tests  death_rate  recovery_rate  \n",
       "0             3413  875696     15226  6391887         5.8           14.2  \n",
       "1                0   77112      2676  1455306        10.2           57.6  "
      ]
     },
     "execution_count": 88,
     "metadata": {},
     "output_type": "execute_result"
    }
   ],
   "source": [
    "covid_May_other.head(2)"
   ]
  },
  {
   "cell_type": "code",
   "execution_count": 89,
   "metadata": {},
   "outputs": [],
   "source": [
    "#Dropping columns we wont need for this analysis\n",
    "covid_May_other = covid_May_other.drop(['active','critical','deaths_today','tests','recovered_today','recovery_rate'],axis=1)"
   ]
  },
  {
   "cell_type": "code",
   "execution_count": 90,
   "metadata": {},
   "outputs": [
    {
     "name": "stdout",
     "output_type": "stream",
     "text": [
      "<class 'pandas.core.frame.DataFrame'>\n",
      "RangeIndex: 5174 entries, 0 to 5173\n",
      "Data columns (total 6 columns):\n",
      " #   Column          Non-Null Count  Dtype  \n",
      "---  ------          --------------  -----  \n",
      " 0   countries       5174 non-null   object \n",
      " 1   infected        5174 non-null   int64  \n",
      " 2   infected_today  5174 non-null   int64  \n",
      " 3   deaths          5174 non-null   int64  \n",
      " 4   recovered       5174 non-null   int64  \n",
      " 5   death_rate      5009 non-null   float64\n",
      "dtypes: float64(1), int64(4), object(1)\n",
      "memory usage: 242.7+ KB\n"
     ]
    }
   ],
   "source": [
    "covid_May_other= covid_May_other.reset_index(drop= True)\n",
    "covid_May_other.info()"
   ]
  },
  {
   "cell_type": "code",
   "execution_count": 91,
   "metadata": {},
   "outputs": [
    {
     "name": "stdout",
     "output_type": "stream",
     "text": [
      "<class 'pandas.core.frame.DataFrame'>\n",
      "Int64Index: 3988 entries, 0 to 5166\n",
      "Data columns (total 6 columns):\n",
      " #   Column          Non-Null Count  Dtype  \n",
      "---  ------          --------------  -----  \n",
      " 0   countries       3988 non-null   object \n",
      " 1   infected        3988 non-null   int64  \n",
      " 2   infected_today  3988 non-null   int64  \n",
      " 3   deaths          3988 non-null   int64  \n",
      " 4   recovered       3988 non-null   int64  \n",
      " 5   death_rate      3823 non-null   float64\n",
      "dtypes: float64(1), int64(4), object(1)\n",
      "memory usage: 218.1+ KB\n"
     ]
    }
   ],
   "source": [
    "#drop duplicates\n",
    "covid_May_other = covid_May_other.drop_duplicates()\n",
    "#From the result we'll be able to see whether or not all columns have complete data in them.\n",
    "covid_May_other.info()"
   ]
  },
  {
   "cell_type": "code",
   "execution_count": 92,
   "metadata": {},
   "outputs": [],
   "source": [
    "covid_May_other=covid_May_other.fillna(0)\n",
    "covid_May_other= covid_May_other.reset_index(drop= True)"
   ]
  },
  {
   "cell_type": "code",
   "execution_count": 93,
   "metadata": {},
   "outputs": [
    {
     "name": "stdout",
     "output_type": "stream",
     "text": [
      "Total number of cases in May for Italy= 24395\n"
     ]
    }
   ],
   "source": [
    "Italy_cases_May = covid_May_other[covid_May_other['countries']=='Italy']\n",
    "Italy_cases_May = Italy_cases_May['infected'].max() - Italy_cases_May['infected'].min()\n",
    "print(f\"Total number of cases in May for Italy= {Italy_cases_May}\")"
   ]
  },
  {
   "cell_type": "code",
   "execution_count": 94,
   "metadata": {},
   "outputs": [
    {
     "name": "stdout",
     "output_type": "stream",
     "text": [
      "Total number of cases in May for Russia= 238996\n"
     ]
    }
   ],
   "source": [
    "Russia_cases_May = covid_May_other[covid_May_other['countries']=='Russia']\n",
    "Russia_cases_May = Russia_cases_May['infected'].max() - Russia_cases_May['infected'].min()\n",
    "print(f\"Total number of cases in May for Russia= {Russia_cases_May}\")"
   ]
  },
  {
   "cell_type": "code",
   "execution_count": 95,
   "metadata": {},
   "outputs": [
    {
     "data": {
      "text/html": [
       "<div>\n",
       "<style scoped>\n",
       "    .dataframe tbody tr th:only-of-type {\n",
       "        vertical-align: middle;\n",
       "    }\n",
       "\n",
       "    .dataframe tbody tr th {\n",
       "        vertical-align: top;\n",
       "    }\n",
       "\n",
       "    .dataframe thead th {\n",
       "        text-align: right;\n",
       "    }\n",
       "</style>\n",
       "<table border=\"1\" class=\"dataframe\">\n",
       "  <thead>\n",
       "    <tr style=\"text-align: right;\">\n",
       "      <th></th>\n",
       "      <th>Total cases in May</th>\n",
       "    </tr>\n",
       "    <tr>\n",
       "      <th>Country</th>\n",
       "      <th></th>\n",
       "    </tr>\n",
       "  </thead>\n",
       "  <tbody>\n",
       "    <tr>\n",
       "      <th>Italy</th>\n",
       "      <td>24395</td>\n",
       "    </tr>\n",
       "    <tr>\n",
       "      <th>Russia</th>\n",
       "      <td>238996</td>\n",
       "    </tr>\n",
       "  </tbody>\n",
       "</table>\n",
       "</div>"
      ],
      "text/plain": [
       "         Total cases in May\n",
       "Country                    \n",
       "Italy                 24395\n",
       "Russia               238996"
      ]
     },
     "execution_count": 95,
     "metadata": {},
     "output_type": "execute_result"
    }
   ],
   "source": [
    "df2 = pd.DataFrame({'Country':['Italy','Russia'],\n",
    "                   'Total cases in May':[Italy_cases_May,Russia_cases_May]\n",
    "                   })\n",
    "df2.set_index('Country')"
   ]
  },
  {
   "cell_type": "code",
   "execution_count": 96,
   "metadata": {},
   "outputs": [
    {
     "data": {
      "image/svg+xml": [
       "<svg class=\"main-svg\" xmlns=\"http://www.w3.org/2000/svg\" xmlns:xlink=\"http://www.w3.org/1999/xlink\" width=\"700\" height=\"450\" style=\"\" viewBox=\"0 0 700 450\"><rect x=\"0\" y=\"0\" width=\"700\" height=\"450\" style=\"fill: rgb(255, 255, 255); fill-opacity: 1;\"/><defs id=\"defs-5f29d0\"><g class=\"clips\"><clipPath id=\"clip5f29d0xyplot\" class=\"plotclip\"><rect width=\"469\" height=\"270\"/></clipPath><clipPath class=\"axesclip\" id=\"clip5f29d0x\"><rect x=\"80\" y=\"0\" width=\"469\" height=\"450\"/></clipPath><clipPath class=\"axesclip\" id=\"clip5f29d0y\"><rect x=\"0\" y=\"100\" width=\"700\" height=\"270\"/></clipPath><clipPath class=\"axesclip\" id=\"clip5f29d0xy\"><rect x=\"80\" y=\"100\" width=\"469\" height=\"270\"/></clipPath></g><g class=\"gradients\"><linearGradient x1=\"0\" x2=\"0\" y1=\"1\" y2=\"0\" id=\"g5f29d0-cbcoloraxis\"><stop offset=\"0%\" stop-color=\"rgb(13, 8, 135)\" stop-opacity=\"1\"/><stop offset=\"11.11111111111111%\" stop-color=\"rgb(70, 3, 159)\" stop-opacity=\"1\"/><stop offset=\"22.22222222222222%\" stop-color=\"rgb(114, 1, 168)\" stop-opacity=\"1\"/><stop offset=\"33.33333333333333%\" stop-color=\"rgb(156, 23, 158)\" stop-opacity=\"1\"/><stop offset=\"44.44444444444444%\" stop-color=\"rgb(189, 55, 134)\" stop-opacity=\"1\"/><stop offset=\"55.55555555555556%\" stop-color=\"rgb(216, 87, 107)\" stop-opacity=\"1\"/><stop offset=\"66.66666666666666%\" stop-color=\"rgb(237, 121, 83)\" stop-opacity=\"1\"/><stop offset=\"77.77777777777779%\" stop-color=\"rgb(251, 159, 58)\" stop-opacity=\"1\"/><stop offset=\"88.88888888888889%\" stop-color=\"rgb(253, 202, 38)\" stop-opacity=\"1\"/><stop offset=\"100%\" stop-color=\"rgb(240, 249, 33)\" stop-opacity=\"1\"/></linearGradient></g></defs><g class=\"bglayer\"><rect class=\"bg\" x=\"80\" y=\"100\" width=\"469\" height=\"270\" style=\"fill: rgb(229, 236, 246); fill-opacity: 1; stroke-width: 0;\"/></g><g class=\"layer-below\"><g class=\"imagelayer\"/><g class=\"shapelayer\"/></g><g class=\"cartesianlayer\"><g class=\"subplot xy\"><g class=\"layer-subplot\"><g class=\"shapelayer\"/><g class=\"imagelayer\"/></g><g class=\"gridlayer\"><g class=\"x\"/><g class=\"y\"><path class=\"ygrid crisp\" transform=\"translate(0,316.34000000000003)\" d=\"M80,0h469\" style=\"stroke: rgb(255, 255, 255); stroke-opacity: 1; stroke-width: 1px;\"/><path class=\"ygrid crisp\" transform=\"translate(0,262.68)\" d=\"M80,0h469\" style=\"stroke: rgb(255, 255, 255); stroke-opacity: 1; stroke-width: 1px;\"/><path class=\"ygrid crisp\" transform=\"translate(0,209.01)\" d=\"M80,0h469\" style=\"stroke: rgb(255, 255, 255); stroke-opacity: 1; stroke-width: 1px;\"/><path class=\"ygrid crisp\" transform=\"translate(0,155.35)\" d=\"M80,0h469\" style=\"stroke: rgb(255, 255, 255); stroke-opacity: 1; stroke-width: 1px;\"/><path class=\"ygrid crisp\" transform=\"translate(0,101.69)\" d=\"M80,0h469\" style=\"stroke: rgb(255, 255, 255); stroke-opacity: 1; stroke-width: 1px;\"/></g></g><g class=\"zerolinelayer\"><path class=\"yzl zl crisp\" transform=\"translate(0,370)\" d=\"M80,0h469\" style=\"stroke: rgb(255, 255, 255); stroke-opacity: 1; stroke-width: 2px;\"/></g><path class=\"xlines-below\"/><path class=\"ylines-below\"/><g class=\"overlines-below\"/><g class=\"xaxislayer-below\"/><g class=\"yaxislayer-below\"/><g class=\"overaxes-below\"/><g class=\"plot\" transform=\"translate(80, 100)\" clip-path=\"url('#clip5f29d0xyplot')\"><g class=\"barlayer mlayer\"><g class=\"trace bars\" style=\"opacity: 1;\"><g class=\"points\"><g class=\"point\"><path d=\"M23.45,270V243.82H211.05V270Z\" style=\"vector-effect: non-scaling-stroke; opacity: 1; stroke-width: 0.5px; fill: rgb(13, 8, 135); fill-opacity: 1; stroke: rgb(229, 236, 246); stroke-opacity: 1;\"/></g><g class=\"point\"><path d=\"M257.95,270V13.5H445.55V270Z\" style=\"vector-effect: non-scaling-stroke; opacity: 1; stroke-width: 0.5px; fill: rgb(240, 249, 33); fill-opacity: 1; stroke: rgb(229, 236, 246); stroke-opacity: 1;\"/></g></g></g></g></g><g class=\"overplot\"/><path class=\"xlines-above crisp\" style=\"fill: none;\" d=\"M0,0\"/><path class=\"ylines-above crisp\" style=\"fill: none;\" d=\"M0,0\"/><g class=\"overlines-above\"/><g class=\"xaxislayer-above\"><g class=\"xtick\"><text text-anchor=\"middle\" x=\"0\" y=\"383\" transform=\"translate(197.25,0)\" style=\"font-family: 'Open Sans', verdana, arial, sans-serif; font-size: 12px; fill: rgb(42, 63, 95); fill-opacity: 1; white-space: pre;\">Italy</text></g><g class=\"xtick\"><text text-anchor=\"middle\" x=\"0\" y=\"383\" transform=\"translate(431.75,0)\" style=\"font-family: 'Open Sans', verdana, arial, sans-serif; font-size: 12px; fill: rgb(42, 63, 95); fill-opacity: 1; white-space: pre;\">Russia</text></g></g><g class=\"yaxislayer-above\"><g class=\"ytick\"><text text-anchor=\"end\" x=\"79\" y=\"4.199999999999999\" transform=\"translate(0,370)\" style=\"font-family: 'Open Sans', verdana, arial, sans-serif; font-size: 12px; fill: rgb(42, 63, 95); fill-opacity: 1; white-space: pre;\">0</text></g><g class=\"ytick\"><text text-anchor=\"end\" x=\"79\" y=\"4.199999999999999\" transform=\"translate(0,316.34000000000003)\" style=\"font-family: 'Open Sans', verdana, arial, sans-serif; font-size: 12px; fill: rgb(42, 63, 95); fill-opacity: 1; white-space: pre;\">50k</text></g><g class=\"ytick\"><text text-anchor=\"end\" x=\"79\" y=\"4.199999999999999\" transform=\"translate(0,262.68)\" style=\"font-family: 'Open Sans', verdana, arial, sans-serif; font-size: 12px; fill: rgb(42, 63, 95); fill-opacity: 1; white-space: pre;\">100k</text></g><g class=\"ytick\"><text text-anchor=\"end\" x=\"79\" y=\"4.199999999999999\" transform=\"translate(0,209.01)\" style=\"font-family: 'Open Sans', verdana, arial, sans-serif; font-size: 12px; fill: rgb(42, 63, 95); fill-opacity: 1; white-space: pre;\">150k</text></g><g class=\"ytick\"><text text-anchor=\"end\" x=\"79\" y=\"4.199999999999999\" transform=\"translate(0,155.35)\" style=\"font-family: 'Open Sans', verdana, arial, sans-serif; font-size: 12px; fill: rgb(42, 63, 95); fill-opacity: 1; white-space: pre;\">200k</text></g><g class=\"ytick\"><text text-anchor=\"end\" x=\"79\" y=\"4.199999999999999\" transform=\"translate(0,101.69)\" style=\"font-family: 'Open Sans', verdana, arial, sans-serif; font-size: 12px; fill: rgb(42, 63, 95); fill-opacity: 1; white-space: pre;\">250k</text></g></g><g class=\"overaxes-above\"/></g></g><g class=\"polarlayer\"/><g class=\"ternarylayer\"/><g class=\"geolayer\"/><g class=\"funnelarealayer\"/><g class=\"pielayer\"/><g class=\"treemaplayer\"/><g class=\"sunburstlayer\"/><g class=\"glimages\"/><defs id=\"topdefs-5f29d0\"><g class=\"clips\"/></defs><g class=\"layer-above\"><g class=\"imagelayer\"/><g class=\"shapelayer\"/></g><g class=\"infolayer\"><g class=\"cbcoloraxis colorbar\" transform=\"translate(80,100)\"><rect class=\"cbbg\" x=\"478\" y=\"0\" width=\"130.078125\" height=\"270\" style=\"fill: rgb(0, 0, 0); fill-opacity: 0; stroke: rgb(68, 68, 68); stroke-opacity: 1; stroke-width: 0;\"/><g class=\"cbfills\" transform=\"translate(0,29)\"><rect class=\"cbfill\" x=\"488\" width=\"30\" y=\"0\" height=\"231\" style=\"stroke: none; fill: url('#g5f29d0-cbcoloraxis');\"/></g><g class=\"cblines\" transform=\"translate(0,29)\"/><g class=\"cbaxis crisp\" transform=\"translate(0,-100)\"><g class=\"ycbcoloraxistick\"><text text-anchor=\"start\" x=\"520.9\" y=\"4.199999999999999\" transform=\"translate(0,332.48625000000004)\" style=\"font-family: 'Open Sans', verdana, arial, sans-serif; font-size: 12px; fill: rgb(42, 63, 95); fill-opacity: 1; white-space: pre;\">50k</text></g><g class=\"ycbcoloraxistick\"><text text-anchor=\"start\" x=\"520.9\" y=\"4.199999999999999\" transform=\"translate(0,278.75625)\" style=\"font-family: 'Open Sans', verdana, arial, sans-serif; font-size: 12px; fill: rgb(42, 63, 95); fill-opacity: 1; white-space: pre;\">100k</text></g><g class=\"ycbcoloraxistick\"><text text-anchor=\"start\" x=\"520.9\" y=\"4.199999999999999\" transform=\"translate(0,225.03625)\" style=\"font-family: 'Open Sans', verdana, arial, sans-serif; font-size: 12px; fill: rgb(42, 63, 95); fill-opacity: 1; white-space: pre;\">150k</text></g><g class=\"ycbcoloraxistick\"><text text-anchor=\"start\" x=\"520.9\" y=\"4.199999999999999\" transform=\"translate(0,171.30625)\" style=\"font-family: 'Open Sans', verdana, arial, sans-serif; font-size: 12px; fill: rgb(42, 63, 95); fill-opacity: 1; white-space: pre;\">200k</text></g></g><g class=\"cbtitleunshift\" transform=\"translate(-80,-100)\"><g class=\"cbtitle\" transform=\"translate(0,0)\"><text class=\"ycbcoloraxistitle\" x=\"568.3800000000001\" y=\"121.99999999999999\" text-anchor=\"start\" style=\"font-family: 'Open Sans', verdana, arial, sans-serif; font-size: 12px; fill: rgb(42, 63, 95); opacity: 1; font-weight: normal; white-space: pre;\">Total cases in May</text></g></g><rect class=\"cboutline\" x=\"488\" y=\"29.40625\" width=\"30\" height=\"230.59375\" style=\"stroke: rgb(68, 68, 68); stroke-opacity: 1; fill: none; stroke-width: 0;\"/></g><g class=\"g-gtitle\"><text class=\"gtitle\" x=\"35\" y=\"50\" text-anchor=\"start\" dy=\"0em\" style=\"font-family: 'Open Sans', verdana, arial, sans-serif; font-size: 17px; fill: rgb(42, 63, 95); opacity: 1; font-weight: normal; white-space: pre;\">Italy vs Russia cases in May</text></g><g class=\"g-xtitle\"><text class=\"xtitle\" x=\"314.5\" y=\"410.20625\" text-anchor=\"middle\" style=\"font-family: 'Open Sans', verdana, arial, sans-serif; font-size: 14px; fill: rgb(42, 63, 95); opacity: 1; font-weight: normal; white-space: pre;\">Country</text></g><g class=\"g-ytitle\"><text class=\"ytitle\" transform=\"rotate(-90,24.200000000000003,235)\" x=\"24.200000000000003\" y=\"235\" text-anchor=\"middle\" style=\"font-family: 'Open Sans', verdana, arial, sans-serif; font-size: 14px; fill: rgb(42, 63, 95); opacity: 1; font-weight: normal; white-space: pre;\">Total cases in May</text></g></g></svg>"
      ]
     },
     "metadata": {},
     "output_type": "display_data"
    }
   ],
   "source": [
    "fig3 = px.bar(df2, x='Country', y='Total cases in May',\n",
    "             color='Total cases in May',\n",
    "             labels={'Italy':'Russia'}, title = \"Italy vs Russia cases in May\",height=450)\n",
    "fig3.show(renderer='svg')"
   ]
  },
  {
   "cell_type": "markdown",
   "metadata": {},
   "source": [
    "#### Some observations:\n",
    "    - Comparing the total number of cases of Italy and Russia, it can be seen that for May Russia had twice the total number of cases recorded in April. While for italy their cases reduced to almost one-fourth of the cases recorded in April. A \n",
    "    tremedous reduction!"
   ]
  },
  {
   "cell_type": "markdown",
   "metadata": {},
   "source": [
    "#### The Kicker: Using worldwide_11pm data, how many cases were recorded by US, Italy, China, Russia, Germany in April + May?"
   ]
  },
  {
   "cell_type": "markdown",
   "metadata": {},
   "source": [
    "     - We will add up total cases in Apr and May for US, Italy, China, Russia, Germany. First Apr, then May"
   ]
  },
  {
   "cell_type": "markdown",
   "metadata": {},
   "source": [
    "#### US, Italy, China, Russia, Germany for April"
   ]
  },
  {
   "cell_type": "code",
   "execution_count": 97,
   "metadata": {},
   "outputs": [
    {
     "name": "stdout",
     "output_type": "stream",
     "text": [
      "Total number of cases in April for US = 2704659\n",
      "Total number of cases in April for Italy = 203591\n",
      "Total number of cases in April for China = 83812\n",
      "Total number of cases in April for Russia = 106498\n",
      "Total number of cases in April for Germany = 161539\n"
     ]
    }
   ],
   "source": [
    "#For US\n",
    "US_cases_Apr = worldwide_Apr_11pm[worldwide_Apr_11pm['Country']=='USA']['Total_confirmed_today'].sum()\n",
    "print(f\"Total number of cases in April for US = {US_cases_Apr}\")\n",
    "#For Italy\n",
    "Italy_cases_Apr = worldwide_Apr_11pm[worldwide_Apr_11pm['Country']=='italy']\n",
    "Italy_cases_Apr = Italy_cases_Apr['Total confirmed'].max() - Italy_cases_Apr['Total confirmed'].min()\n",
    "print(f\"Total number of cases in April for Italy = {Italy_cases_Apr}\")\n",
    "#For China\n",
    "China_cases_Apr = worldwide_Apr_11pm[worldwide_Apr_11pm['Country']=='china']\n",
    "China_cases_Apr = China_cases_Apr['Total confirmed'].max() - China_cases_Apr['Total confirmed'].min()\n",
    "print(f\"Total number of cases in April for China = {China_cases_Apr}\")\n",
    "#For Russia\n",
    "Russia_cases_Apr = worldwide_Apr_11pm[worldwide_Apr_11pm['Country']=='russia']\n",
    "Russia_cases_Apr = Russia_cases_Apr['Total confirmed'].max() - Russia_cases_Apr['Total confirmed'].min()\n",
    "print(f\"Total number of cases in April for Russia = {Russia_cases_Apr}\")\n",
    "#For Germany\n",
    "Germany_cases_Apr = worldwide_Apr_11pm[worldwide_Apr_11pm['Country']=='germany']\n",
    "Germany_cases_Apr = Germany_cases_Apr['Total confirmed'].max() - Germany_cases_Apr['Total confirmed'].min()\n",
    "print(f\"Total number of cases in April for Germany = {Germany_cases_Apr}\")"
   ]
  },
  {
   "cell_type": "markdown",
   "metadata": {},
   "source": [
    "#### US, Italy, China, Russia, Germany for May"
   ]
  },
  {
   "cell_type": "code",
   "execution_count": 98,
   "metadata": {},
   "outputs": [
    {
     "name": "stdout",
     "output_type": "stream",
     "text": [
      "Total number of cases in May for US = 555285\n",
      "Total number of cases in May for Italy = 22430\n",
      "Total number of cases in May for China = 877\n",
      "Total number of cases in May for Russia = 230050\n",
      "Total number of cases in May for Germany = 16251\n"
     ]
    }
   ],
   "source": [
    "#For US\n",
    "US_cases_May = worldwide_May_11pm[worldwide_May_11pm['country']=='USA']\n",
    "US_cases_May = US_cases_May['total_confirmed'].max() - US_cases_May['total_confirmed'].min()\n",
    "print(f\"Total number of cases in May for US = {US_cases_May}\")\n",
    "#For Italy\n",
    "Italy_cases_May = worldwide_May_11pm[worldwide_May_11pm['country']=='italy']\n",
    "Italy_cases_May = Italy_cases_May['total_confirmed'].max() - Italy_cases_May['total_confirmed'].min() \n",
    "print(f\"Total number of cases in May for Italy = {Italy_cases_May}\")\n",
    "#For China\n",
    "China_cases_May = worldwide_May_11pm[worldwide_May_11pm['country']=='china']\n",
    "China_cases_May = China_cases_May['total_confirmed'].max() - China_cases_May['total_confirmed'].min()\n",
    "print(f\"Total number of cases in May for China = {China_cases_May}\")\n",
    "#For Russia\n",
    "Russia_cases_May = worldwide_May_11pm[worldwide_May_11pm['country']=='russia']\n",
    "Russia_cases_May = Russia_cases_May['total_confirmed'].max() - Russia_cases_May['total_confirmed'].min()\n",
    "print(f\"Total number of cases in May for Russia = {Russia_cases_May}\")\n",
    "#For Germany\n",
    "Germany_cases_May = worldwide_May_11pm[worldwide_May_11pm['country']=='germany']\n",
    "Germany_cases_May = Germany_cases_May['total_confirmed'].max() - Germany_cases_May['total_confirmed'].min()\n",
    "print(f\"Total number of cases in May for Germany = {Germany_cases_May}\")\n"
   ]
  },
  {
   "cell_type": "markdown",
   "metadata": {},
   "source": [
    "    -Next,how many cases were recorded by US, Italy, China, Russia, Germany in April + May?"
   ]
  },
  {
   "cell_type": "code",
   "execution_count": null,
   "metadata": {},
   "outputs": [],
   "source": [
    "US_Apr_May = US_cases_Apr+US_cases_May\n",
    "Italy_Apr_May = Italy_cases_Apr+Italy_cases_May\n",
    "China_Apr_May = China_cases_Apr+China_cases_May\n",
    "Russia_Apr_May = Russia_cases_Apr+Russia_cases_May\n",
    "Germany_Apr_May = Germany_cases_Apr+Germany_cases_May"
   ]
  },
  {
   "cell_type": "code",
   "execution_count": null,
   "metadata": {},
   "outputs": [],
   "source": [
    "df3 = pd.DataFrame({'Country':['US','Russia','Italy','Germany','China'],\n",
    "                   'Total cases in April and May':[US_Apr_May,Russia_Apr_May,Italy_Apr_May,Germany_Apr_May,China_Apr_May]\n",
    "                   })\n",
    "df3.set_index('Country')"
   ]
  },
  {
   "cell_type": "code",
   "execution_count": null,
   "metadata": {},
   "outputs": [],
   "source": [
    "fig4 = px.bar(df3, x='Country', y='Total cases in April and May',\n",
    "             color='Total cases in April and May',\n",
    "             labels={'US':'Russia','Italy':'Germany'}, title = \"Total cases in April and May\",height=450)\n",
    "fig4.show(renderer='svg')"
   ]
  }
 ],
 "metadata": {
  "kernelspec": {
   "display_name": "Python 3",
   "language": "python",
   "name": "python3"
  },
  "language_info": {
   "codemirror_mode": {
    "name": "ipython",
    "version": 3
   },
   "file_extension": ".py",
   "mimetype": "text/x-python",
   "name": "python",
   "nbconvert_exporter": "python",
   "pygments_lexer": "ipython3",
   "version": "3.7.3"
  }
 },
 "nbformat": 4,
 "nbformat_minor": 2
}
