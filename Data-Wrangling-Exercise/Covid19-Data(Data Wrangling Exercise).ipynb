{
 "cells": [
  {
   "cell_type": "markdown",
   "metadata": {},
   "source": [
    "### Data Wrangling Exercise\n",
    "**The Task:**\n",
    "There are two sets of files named covid* and worldwide*.\n",
    "Both sets of files have two versions at two different times of the day: around 11pm(23:00) and early in the morning:\n",
    "\n",
    "(1) Organise the files into 4 groups (show formula + number of files each).\n",
    "   - (a) covid* 11pm+\n",
    "   - (b) world* 11pm+\n",
    "   - (c) covid* other time\n",
    "   - (d) world* other time\n",
    "   \n",
    "2) Using 1b above, how many cases did the US and Germany each record in April?\n",
    "\n",
    "3) Using 1b above, how many cases did the US and Germany each record in May?\n",
    "\n",
    "4) Using 1c above, how many cases did Italy and Russia each record in April?\n",
    "\n",
    "5) Using 1c above, how many cases did Italy and Russia each record in May?\n",
    "\n",
    "#### Kicker\n",
    "Using 1b, how many cases were recorded by US, Italy, China, Russia, Germany in April + May?\n",
    " "
   ]
  },
  {
   "cell_type": "code",
   "execution_count": 1,
   "metadata": {},
   "outputs": [],
   "source": [
    "# import packages\n",
    "import os\n",
    "import numpy as np\n",
    "import pandas as pd\n",
    "import plotly.express as px\n",
    "import re\n",
    "os.chdir(r\"AskPyFesh Challenge 2 dataset\")\n",
    "import warnings\n",
    "warnings.filterwarnings('ignore')"
   ]
  },
  {
   "cell_type": "code",
   "execution_count": 2,
   "metadata": {},
   "outputs": [],
   "source": [
    "#Get data from file path\n",
    "list_data = os.listdir(r\"C:\\Users\\USER\\Documents\\AskPyFesh Challenge 2 dataset\")"
   ]
  },
  {
   "cell_type": "markdown",
   "metadata": {},
   "source": [
    "#### Question 1"
   ]
  },
  {
   "cell_type": "code",
   "execution_count": 3,
   "metadata": {},
   "outputs": [
    {
     "name": "stdout",
     "output_type": "stream",
     "text": [
      "Total number of files for covid_11pm = 42\n",
      "Total number of files for covid_Apr_11pm = 18\n",
      "Total number of files for covid_May_11pm = 24\n"
     ]
    }
   ],
   "source": [
    "#Total number of files in covid_11pm\n",
    "covid_11pm = [f for f in list_data if re.findall(r'covid*\\S+[\\s]23\\S+.csv',f)]\n",
    "print(f\"Total number of files for covid_11pm = {len(covid_11pm)}\")\n",
    "\n",
    "#Splitting covid_11pm files per Month(Apr/May) to answer questions above \n",
    "covid_Apr = [f for f in list_data if 'Apr' in f]\n",
    "covid_Apr_11pm = [f for f in covid_Apr if re.findall(r'covid*\\S+[\\s]23\\S+.csv',f)]\n",
    "print(f\"Total number of files for covid_Apr_11pm = {len(covid_Apr_11pm)}\")\n",
    "#combine all files in the list\n",
    "covid = pd.concat([pd.read_csv(f) for f in covid_Apr_11pm])\n",
    "#export to csv\n",
    "covid.to_csv('covid_Apr_11pm.csv',index=False,encoding='utf-8-sig')\n",
    "#load dataset\n",
    "covid_Apr_11pm = pd.read_csv('covid_Apr_11pm.csv')\n",
    "\n",
    "covid_May = [f for f in list_data if 'May' in f]\n",
    "covid_May_11pm = [f for f in covid_May if re.findall(r'covid*\\S+[\\s]23\\S+.csv',f)]\n",
    "print(f\"Total number of files for covid_May_11pm = {len(covid_May_11pm)}\")\n",
    "#combine all files in the list\n",
    "covid = pd.concat([pd.read_csv(f) for f in covid_May_11pm])\n",
    "#export to csv\n",
    "covid.to_csv('covid_May_11pm.csv',index=False,encoding='utf-8-sig')\n",
    "#load dataset\n",
    "covid_May_11pm = pd.read_csv('covid_May_11pm.csv')\n",
    " "
   ]
  },
  {
   "cell_type": "code",
   "execution_count": 4,
   "metadata": {},
   "outputs": [
    {
     "name": "stdout",
     "output_type": "stream",
     "text": [
      "Total number of files for worldwide_11pm = 43\n",
      "Total number of files for worldwide_Apr_11pm = 19\n",
      "Total number of files for worldwide_May_11pm = 24\n"
     ]
    }
   ],
   "source": [
    "worldwide_11pm = [f for f in list_data if re.findall(r'worldwide*\\S+[\\s]23\\S+.csv',f)]\n",
    "print(f\"Total number of files for worldwide_11pm = {len(worldwide_11pm)}\" )\n",
    "\n",
    "#Splitting covid_11pm files per Month(Apr/May) to answer questions above \n",
    "worldwide_Apr = [f for f in list_data if 'Apr' in f]\n",
    "worldwide_Apr_11pm = [f for f in worldwide_Apr if re.findall(r'worldwide*\\S+[\\s]23\\S+.csv',f)]\n",
    "print(f\"Total number of files for worldwide_Apr_11pm = {len(worldwide_Apr_11pm)}\" )\n",
    "#combine all files in the list\n",
    "def combine_column_apr(files):\n",
    "    cols = {'Total confirmed cases':'Total confirmed','Cases confirmed today':'Total_confirmed_today','Confirmed recoveries':'Total_recoveries','Deaths today':'Total_deaths_today',\n",
    "            'Total deaths':'Total_deaths','Recoveries confirmed today':'Total_Recoveries_today',}\n",
    "    worldwide = pd.concat([pd.read_csv(f).rename(columns=cols) for f in worldwide_Apr_11pm],ignore_index=True)\n",
    "    #worldwide.columns = [line.lower().replace(' ','_') for line in worldwide.columns]\n",
    "    return worldwide \n",
    "worldwide_Apr_11pm = combine_column_apr(worldwide_Apr_11pm)\n",
    "\n",
    "worldwide_May = [f for f in list_data if 'May' in f]\n",
    "worldwide_May_11pm = [f for f in worldwide_May if re.findall(r'worldwide*\\S+[\\s]23\\S+.csv',f)]\n",
    "print(f\"Total number of files for worldwide_May_11pm = {len(worldwide_May_11pm)}\" )\n",
    "#combine all files in the list\n",
    "worldwide1 = pd.concat([pd.read_csv(f) for f in worldwide_May_11pm])\n",
    "#export to csv\n",
    "worldwide1.to_csv('worldwide_May_11pm.csv',index=False,encoding='utf-8-sig')\n",
    "#load dataset\n",
    "worldwide_May_11pm = pd.read_csv('worldwide_May_11pm.csv')"
   ]
  },
  {
   "cell_type": "code",
   "execution_count": 5,
   "metadata": {},
   "outputs": [
    {
     "name": "stdout",
     "output_type": "stream",
     "text": [
      "Total number of files for covid_other = 51\n",
      "Total number of files for covid_Apr_other = 28\n",
      "Total number of files for covid_May_other = 23\n"
     ]
    }
   ],
   "source": [
    "#Total number of files in covid_other\n",
    "covid_other = [f for f in list_data if re.findall(r'covid*\\S+[\\s][^23]\\S+.csv',f)]\n",
    "print(f\"Total number of files for covid_other = {len(covid_other)}\")\n",
    "\n",
    "#Splitting covid_other files per Month(Apr/May) to answer questions above \n",
    "covid_Apr_other = [f for f in covid_Apr if re.findall(r'covid*\\S+[\\s][^23]\\S+.csv',f)]\n",
    "print(f\"Total number of files for covid_Apr_other = {len(covid_Apr_other)}\")\n",
    "#combine all files in the list\n",
    "covid = pd.concat([pd.read_csv(f) for f in covid_Apr_other])\n",
    "#export to csv\n",
    "covid.to_csv('covid_Apr_other.csv',index=False,encoding='utf-8-sig')\n",
    "#load dataset\n",
    "covid_Apr_other = pd.read_csv('covid_Apr_other.csv')\n",
    "\n",
    "covid_May_other = [f for f in covid_May if re.findall(r'covid*\\S+[\\s][^23]\\S+.csv',f)]\n",
    "print(f\"Total number of files for covid_May_other = {len(covid_May_other)}\")\n",
    "#combine all files in the list\n",
    "covid = pd.concat([pd.read_csv(f) for f in covid_May_other])\n",
    "#export to csv\n",
    "covid.to_csv('covid_May_other.csv',index=False,encoding='utf-8-sig')\n",
    "#load dataset\n",
    "covid_May_other = pd.read_csv('covid_May_other.csv')"
   ]
  },
  {
   "cell_type": "code",
   "execution_count": 6,
   "metadata": {},
   "outputs": [
    {
     "name": "stdout",
     "output_type": "stream",
     "text": [
      "Total number of files for worldwide_other = 45\n",
      "Total number of files for worldwide_Apr_other = 22\n",
      "Total number of files for worldwide_May_other = 23\n"
     ]
    }
   ],
   "source": [
    "worldwide_other = [f for f in list_data if re.findall(r'worldwide*\\S+[\\s][^23]\\S+.csv',f)]\n",
    "print(f\"Total number of files for worldwide_other = {len(worldwide_other)}\" )\n",
    "\n",
    "#Splitting covid_other files per Month(Apr/May) to answer questions above \n",
    "worldwide_Apr_other = [f for f in worldwide_Apr if re.findall(r'worldwide*\\S+[\\s][^23]\\S+.csv',f)]\n",
    "print(f\"Total number of files for worldwide_Apr_other = {len(worldwide_Apr_other)}\" )\n",
    "#combine all files in the list\n",
    "worldwide = pd.concat([pd.read_csv(f) for f in worldwide_Apr_other])\n",
    "#export to csv\n",
    "worldwide.to_csv('worldwide_Apr_other.csv',index=False,encoding='utf-8-sig')\n",
    "#load dataset\n",
    "worldwide_Apr_11pm = pd.read_csv('worldwide_Apr_other.csv')\n",
    "\n",
    "worldwide_May_other = [f for f in worldwide_May if re.findall(r'worldwide*\\S+[\\s][^23]\\S+.csv',f)]\n",
    "print(f\"Total number of files for worldwide_May_other = {len(worldwide_May_other)}\" )\n",
    "#combine all files in the list\n",
    "worldwide = pd.concat([pd.read_csv(f) for f in worldwide_May_other])\n",
    "#export to csv\n",
    "worldwide.to_csv('worldwide_May_other.csv',index=False,encoding='utf-8-sig')\n",
    "#load dataset\n",
    "worldwide_May_other = pd.read_csv('worldwide_May_other.csv')"
   ]
  },
  {
   "cell_type": "markdown",
   "metadata": {},
   "source": [
    "#### Question 2: Using worldwide_11pm data, how many cases did the US and Germany each record in April?"
   ]
  },
  {
   "cell_type": "code",
   "execution_count": 7,
   "metadata": {},
   "outputs": [
    {
     "data": {
      "text/html": [
       "<div>\n",
       "<style scoped>\n",
       "    .dataframe tbody tr th:only-of-type {\n",
       "        vertical-align: middle;\n",
       "    }\n",
       "\n",
       "    .dataframe tbody tr th {\n",
       "        vertical-align: top;\n",
       "    }\n",
       "\n",
       "    .dataframe thead th {\n",
       "        text-align: right;\n",
       "    }\n",
       "</style>\n",
       "<table border=\"1\" class=\"dataframe\">\n",
       "  <thead>\n",
       "    <tr style=\"text-align: right;\">\n",
       "      <th></th>\n",
       "      <th>Country</th>\n",
       "      <th>Total confirmed cases</th>\n",
       "      <th>Total deaths</th>\n",
       "      <th>Confirmed recoveries</th>\n",
       "      <th>Cases confirmed today</th>\n",
       "      <th>Deaths today</th>\n",
       "      <th>Recoveries confirmed today</th>\n",
       "      <th>Total confirmed</th>\n",
       "      <th>Total_confirmed_today</th>\n",
       "      <th>Total_deaths</th>\n",
       "      <th>Total_deaths_today</th>\n",
       "      <th>Total_Recoveries</th>\n",
       "      <th>Total_Recoveries_today</th>\n",
       "      <th>Active_confirmed</th>\n",
       "      <th>Critical</th>\n",
       "      <th>Mortality_close</th>\n",
       "      <th>Mortality_confirmed</th>\n",
       "      <th>Total_tests</th>\n",
       "      <th>Total_tests_today</th>\n",
       "    </tr>\n",
       "  </thead>\n",
       "  <tbody>\n",
       "    <tr>\n",
       "      <th>0</th>\n",
       "      <td>united-states</td>\n",
       "      <td>244,190</td>\n",
       "      <td>5,883</td>\n",
       "      <td>10,400</td>\n",
       "      <td>29,551</td>\n",
       "      <td>784</td>\n",
       "      <td>1,522</td>\n",
       "      <td>NaN</td>\n",
       "      <td>NaN</td>\n",
       "      <td>NaN</td>\n",
       "      <td>NaN</td>\n",
       "      <td>NaN</td>\n",
       "      <td>NaN</td>\n",
       "      <td>NaN</td>\n",
       "      <td>NaN</td>\n",
       "      <td>NaN</td>\n",
       "      <td>NaN</td>\n",
       "      <td>NaN</td>\n",
       "      <td>NaN</td>\n",
       "    </tr>\n",
       "    <tr>\n",
       "      <th>1</th>\n",
       "      <td>italy</td>\n",
       "      <td>115,242</td>\n",
       "      <td>13,915</td>\n",
       "      <td>18,278</td>\n",
       "      <td>4,668</td>\n",
       "      <td>760</td>\n",
       "      <td>1,431</td>\n",
       "      <td>NaN</td>\n",
       "      <td>NaN</td>\n",
       "      <td>NaN</td>\n",
       "      <td>NaN</td>\n",
       "      <td>NaN</td>\n",
       "      <td>NaN</td>\n",
       "      <td>NaN</td>\n",
       "      <td>NaN</td>\n",
       "      <td>NaN</td>\n",
       "      <td>NaN</td>\n",
       "      <td>NaN</td>\n",
       "      <td>NaN</td>\n",
       "    </tr>\n",
       "  </tbody>\n",
       "</table>\n",
       "</div>"
      ],
      "text/plain": [
       "         Country Total confirmed cases Total deaths Confirmed recoveries  \\\n",
       "0  united-states               244,190        5,883               10,400   \n",
       "1          italy               115,242       13,915               18,278   \n",
       "\n",
       "  Cases confirmed today Deaths today Recoveries confirmed today  \\\n",
       "0                29,551          784                      1,522   \n",
       "1                 4,668          760                      1,431   \n",
       "\n",
       "  Total confirmed Total_confirmed_today Total_deaths Total_deaths_today  \\\n",
       "0             NaN                   NaN          NaN                NaN   \n",
       "1             NaN                   NaN          NaN                NaN   \n",
       "\n",
       "  Total_Recoveries Total_Recoveries_today Active_confirmed Critical  \\\n",
       "0              NaN                    NaN              NaN      NaN   \n",
       "1              NaN                    NaN              NaN      NaN   \n",
       "\n",
       "  Mortality_close Mortality_confirmed Total_tests Total_tests_today  \n",
       "0             NaN                 NaN         NaN               NaN  \n",
       "1             NaN                 NaN         NaN               NaN  "
      ]
     },
     "execution_count": 7,
     "metadata": {},
     "output_type": "execute_result"
    }
   ],
   "source": [
    "worldwide_Apr_11pm.head(2)"
   ]
  },
  {
   "cell_type": "code",
   "execution_count": 8,
   "metadata": {},
   "outputs": [],
   "source": [
    "#Dropping columns we wont need for this analysis\n",
    "worldwide_Apr_11pm = worldwide_Apr_11pm.drop(['Critical','Mortality_close','Mortality_confirmed','Total_tests','Total_tests_today','Active_confirmed'],axis=1)"
   ]
  },
  {
   "cell_type": "code",
   "execution_count": 9,
   "metadata": {},
   "outputs": [
    {
     "name": "stdout",
     "output_type": "stream",
     "text": [
      "<class 'pandas.core.frame.DataFrame'>\n",
      "RangeIndex: 4459 entries, 0 to 4458\n",
      "Data columns (total 13 columns):\n",
      " #   Column                      Non-Null Count  Dtype \n",
      "---  ------                      --------------  ----- \n",
      " 0   Country                     4459 non-null   object\n",
      " 1   Total confirmed cases       1011 non-null   object\n",
      " 2   Total deaths                1011 non-null   object\n",
      " 3   Confirmed recoveries        1011 non-null   object\n",
      " 4   Cases confirmed today       1011 non-null   object\n",
      " 5   Deaths today                1011 non-null   object\n",
      " 6   Recoveries confirmed today  1011 non-null   object\n",
      " 7   Total confirmed             3448 non-null   object\n",
      " 8   Total_confirmed_today       3448 non-null   object\n",
      " 9   Total_deaths                3448 non-null   object\n",
      " 10  Total_deaths_today          3448 non-null   object\n",
      " 11  Total_Recoveries            3448 non-null   object\n",
      " 12  Total_Recoveries_today      3448 non-null   object\n",
      "dtypes: object(13)\n",
      "memory usage: 453.0+ KB\n"
     ]
    }
   ],
   "source": [
    " worldwide_Apr_11pm= worldwide_Apr_11pm.reset_index(drop= True)\n",
    "worldwide_Apr_11pm.info()"
   ]
  },
  {
   "cell_type": "code",
   "execution_count": 10,
   "metadata": {},
   "outputs": [
    {
     "name": "stdout",
     "output_type": "stream",
     "text": [
      "<class 'pandas.core.frame.DataFrame'>\n",
      "RangeIndex: 3917 entries, 0 to 3916\n",
      "Data columns (total 13 columns):\n",
      " #   Column                      Non-Null Count  Dtype \n",
      "---  ------                      --------------  ----- \n",
      " 0   Country                     3917 non-null   object\n",
      " 1   Total confirmed cases       925 non-null    object\n",
      " 2   Total deaths                925 non-null    object\n",
      " 3   Confirmed recoveries        925 non-null    object\n",
      " 4   Cases confirmed today       925 non-null    object\n",
      " 5   Deaths today                925 non-null    object\n",
      " 6   Recoveries confirmed today  925 non-null    object\n",
      " 7   Total confirmed             2992 non-null   object\n",
      " 8   Total_confirmed_today       2992 non-null   object\n",
      " 9   Total_deaths                2992 non-null   object\n",
      " 10  Total_deaths_today          2992 non-null   object\n",
      " 11  Total_Recoveries            2992 non-null   object\n",
      " 12  Total_Recoveries_today      2992 non-null   object\n",
      "dtypes: object(13)\n",
      "memory usage: 397.9+ KB\n"
     ]
    }
   ],
   "source": [
    "#drop duplicates\n",
    "worldwide_Apr_11pm = worldwide_Apr_11pm.drop_duplicates()\n",
    "worldwide_Apr_11pm= worldwide_Apr_11pm.reset_index(drop= True)\n",
    "#From the result we'll be able to see whether or not all columns have complete data in them.\n",
    "worldwide_Apr_11pm.info()"
   ]
  },
  {
   "cell_type": "markdown",
   "metadata": {},
   "source": [
    "#### Some observations:\n",
    "    - For this question we are interested in the 'total_confirmed_today' column. A quick glance at the stats above shows \n",
    "    that it has 591 missing values.That's a lot! we will deal with this missing values as we go further in our analysis \n",
    "    - Notice too that the column \"Total_confirmed_today\" is of type object. The comma in each value for this column needs to be removed, and the column needs to be converted to numeric"
   ]
  },
  {
   "cell_type": "markdown",
   "metadata": {},
   "source": [
    "#### Cleaning the total_confirmed_today column \n",
    "    - Removing the comma(,) \n",
    "    There are a bunch of different ways to accomplish this in Python. But for this data, we will use a straight forward str.replace(',','') method on the entire column as it simply replaces the ',' it looks like this:    "
   ]
  },
  {
   "cell_type": "code",
   "execution_count": 11,
   "metadata": {},
   "outputs": [],
   "source": [
    "worldwide_Apr_11pm['Total_confirmed_today']=worldwide_Apr_11pm['Total_confirmed_today'].str.replace(',', '')\n",
    "worldwide_Apr_11pm['Total_confirmed_today']=worldwide_Apr_11pm['Total_confirmed_today'].fillna(0)\n",
    "worldwide_Apr_11pm['Total_confirmed_today']=worldwide_Apr_11pm['Total_confirmed_today'].astype(int)"
   ]
  },
  {
   "cell_type": "code",
   "execution_count": 12,
   "metadata": {},
   "outputs": [],
   "source": [
    "worldwide_Apr_11pm['Total confirmed']=worldwide_Apr_11pm['Total confirmed'].str.replace(',', '')\n",
    "worldwide_Apr_11pm['Total confirmed']=worldwide_Apr_11pm['Total confirmed'].fillna(0)\n",
    "worldwide_Apr_11pm['Total confirmed']=worldwide_Apr_11pm['Total confirmed'].astype(int)"
   ]
  },
  {
   "cell_type": "code",
   "execution_count": 13,
   "metadata": {},
   "outputs": [],
   "source": [
    "worldwide_Apr_11pm['Country']=worldwide_Apr_11pm['Country'].replace('united-states','USA')\n",
    "#worldwide_Apr_11pm.reset_index(drop=True)"
   ]
  },
  {
   "cell_type": "code",
   "execution_count": 14,
   "metadata": {},
   "outputs": [
    {
     "name": "stdout",
     "output_type": "stream",
     "text": [
      "Total number of cases in April for US = 2704659\n"
     ]
    }
   ],
   "source": [
    "US_cases_Apr = worldwide_Apr_11pm[worldwide_Apr_11pm['Country']=='USA']['Total_confirmed_today'].sum()\n",
    "print(f\"Total number of cases in April for US = {US_cases_Apr}\")"
   ]
  },
  {
   "cell_type": "code",
   "execution_count": 15,
   "metadata": {},
   "outputs": [
    {
     "name": "stdout",
     "output_type": "stream",
     "text": [
      "Total number of cases in April for Germany = 161539\n"
     ]
    }
   ],
   "source": [
    "Germany_cases_Apr = worldwide_Apr_11pm[worldwide_Apr_11pm['Country']=='germany']\n",
    "Germany_cases_Apr = Germany_cases_Apr['Total confirmed'].max() - Germany_cases_Apr['Total confirmed'].min()\n",
    "print(f\"Total number of cases in April for Germany = {Germany_cases_Apr}\")"
   ]
  },
  {
   "cell_type": "code",
   "execution_count": 16,
   "metadata": {},
   "outputs": [
    {
     "data": {
      "text/html": [
       "<div>\n",
       "<style scoped>\n",
       "    .dataframe tbody tr th:only-of-type {\n",
       "        vertical-align: middle;\n",
       "    }\n",
       "\n",
       "    .dataframe tbody tr th {\n",
       "        vertical-align: top;\n",
       "    }\n",
       "\n",
       "    .dataframe thead th {\n",
       "        text-align: right;\n",
       "    }\n",
       "</style>\n",
       "<table border=\"1\" class=\"dataframe\">\n",
       "  <thead>\n",
       "    <tr style=\"text-align: right;\">\n",
       "      <th></th>\n",
       "      <th>Total cases in April</th>\n",
       "    </tr>\n",
       "    <tr>\n",
       "      <th>Country</th>\n",
       "      <th></th>\n",
       "    </tr>\n",
       "  </thead>\n",
       "  <tbody>\n",
       "    <tr>\n",
       "      <th>US</th>\n",
       "      <td>2704659</td>\n",
       "    </tr>\n",
       "    <tr>\n",
       "      <th>Germany</th>\n",
       "      <td>161539</td>\n",
       "    </tr>\n",
       "  </tbody>\n",
       "</table>\n",
       "</div>"
      ],
      "text/plain": [
       "         Total cases in April\n",
       "Country                      \n",
       "US                    2704659\n",
       "Germany                161539"
      ]
     },
     "execution_count": 16,
     "metadata": {},
     "output_type": "execute_result"
    }
   ],
   "source": [
    "df1 = pd.DataFrame({'Country':['US','Germany'],\n",
    "                   'Total cases in April':[US_cases_Apr,Germany_cases_Apr]\n",
    "                   })\n",
    "df1.set_index('Country')"
   ]
  },
  {
   "cell_type": "markdown",
   "metadata": {},
   "source": [
    "#### Question 3: Using worldwide_11pm data, how many cases did the US and Germany each record in May?\n"
   ]
  },
  {
   "cell_type": "code",
   "execution_count": 17,
   "metadata": {},
   "outputs": [
    {
     "data": {
      "text/html": [
       "<div>\n",
       "<style scoped>\n",
       "    .dataframe tbody tr th:only-of-type {\n",
       "        vertical-align: middle;\n",
       "    }\n",
       "\n",
       "    .dataframe tbody tr th {\n",
       "        vertical-align: top;\n",
       "    }\n",
       "\n",
       "    .dataframe thead th {\n",
       "        text-align: right;\n",
       "    }\n",
       "</style>\n",
       "<table border=\"1\" class=\"dataframe\">\n",
       "  <thead>\n",
       "    <tr style=\"text-align: right;\">\n",
       "      <th></th>\n",
       "      <th>Country</th>\n",
       "      <th>Total confirmed</th>\n",
       "      <th>Total_confirmed_today</th>\n",
       "      <th>Total_deaths</th>\n",
       "      <th>Total_deaths_today</th>\n",
       "      <th>Total_Recoveries</th>\n",
       "      <th>Total_Recoveries_today</th>\n",
       "      <th>Active_confirmed</th>\n",
       "      <th>Critical</th>\n",
       "      <th>Mortality_close</th>\n",
       "      <th>Mortality_confirmed</th>\n",
       "      <th>Total_tests</th>\n",
       "      <th>Total_tests_today</th>\n",
       "    </tr>\n",
       "  </thead>\n",
       "  <tbody>\n",
       "    <tr>\n",
       "      <th>0</th>\n",
       "      <td>united-states</td>\n",
       "      <td>1,129,882</td>\n",
       "      <td>35,152</td>\n",
       "      <td>65,724</td>\n",
       "      <td>1,883</td>\n",
       "      <td>161,551</td>\n",
       "      <td>9,227</td>\n",
       "      <td>902,607</td>\n",
       "      <td>16,478 (2%)</td>\n",
       "      <td>902,607</td>\n",
       "      <td>6%</td>\n",
       "      <td>6,690,837</td>\n",
       "      <td>314,371</td>\n",
       "    </tr>\n",
       "    <tr>\n",
       "      <th>1</th>\n",
       "      <td>spain</td>\n",
       "      <td>242,988</td>\n",
       "      <td>3,349</td>\n",
       "      <td>24,824</td>\n",
       "      <td>281</td>\n",
       "      <td>142,450</td>\n",
       "      <td>4,466</td>\n",
       "      <td>75,714</td>\n",
       "      <td>2,500 (3%)</td>\n",
       "      <td>75,714</td>\n",
       "      <td>10%</td>\n",
       "      <td>1,528,833</td>\n",
       "      <td>73,527</td>\n",
       "    </tr>\n",
       "  </tbody>\n",
       "</table>\n",
       "</div>"
      ],
      "text/plain": [
       "         Country Total confirmed Total_confirmed_today Total_deaths  \\\n",
       "0  united-states       1,129,882                35,152       65,724   \n",
       "1          spain         242,988                 3,349       24,824   \n",
       "\n",
       "  Total_deaths_today Total_Recoveries Total_Recoveries_today Active_confirmed  \\\n",
       "0              1,883          161,551                  9,227          902,607   \n",
       "1                281          142,450                  4,466           75,714   \n",
       "\n",
       "      Critical Mortality_close Mortality_confirmed Total_tests  \\\n",
       "0  16,478 (2%)         902,607                  6%   6,690,837   \n",
       "1   2,500 (3%)          75,714                 10%   1,528,833   \n",
       "\n",
       "  Total_tests_today  \n",
       "0           314,371  \n",
       "1            73,527  "
      ]
     },
     "execution_count": 17,
     "metadata": {},
     "output_type": "execute_result"
    }
   ],
   "source": [
    "worldwide_May_11pm.head(2)"
   ]
  },
  {
   "cell_type": "code",
   "execution_count": 18,
   "metadata": {},
   "outputs": [],
   "source": [
    "#Dropping columns we wont need for this analysis\n",
    "worldwide_May_11pm = worldwide_May_11pm.drop(['Critical','Mortality_close','Mortality_confirmed','Total_tests','Total_tests_today','Active_confirmed'],axis=1)"
   ]
  },
  {
   "cell_type": "code",
   "execution_count": 19,
   "metadata": {},
   "outputs": [
    {
     "name": "stdout",
     "output_type": "stream",
     "text": [
      "<class 'pandas.core.frame.DataFrame'>\n",
      "RangeIndex: 5178 entries, 0 to 5177\n",
      "Data columns (total 7 columns):\n",
      " #   Column                  Non-Null Count  Dtype \n",
      "---  ------                  --------------  ----- \n",
      " 0   Country                 5178 non-null   object\n",
      " 1   Total confirmed         5178 non-null   object\n",
      " 2   Total_confirmed_today   5178 non-null   object\n",
      " 3   Total_deaths            5178 non-null   object\n",
      " 4   Total_deaths_today      5178 non-null   object\n",
      " 5   Total_Recoveries        5178 non-null   object\n",
      " 6   Total_Recoveries_today  5178 non-null   object\n",
      "dtypes: object(7)\n",
      "memory usage: 283.3+ KB\n"
     ]
    }
   ],
   "source": [
    "worldwide_May_11pm= worldwide_May_11pm.reset_index(drop= True)\n",
    "worldwide_May_11pm.info()"
   ]
  },
  {
   "cell_type": "code",
   "execution_count": 20,
   "metadata": {},
   "outputs": [
    {
     "name": "stdout",
     "output_type": "stream",
     "text": [
      "<class 'pandas.core.frame.DataFrame'>\n",
      "RangeIndex: 3950 entries, 0 to 3949\n",
      "Data columns (total 7 columns):\n",
      " #   Column                  Non-Null Count  Dtype \n",
      "---  ------                  --------------  ----- \n",
      " 0   Country                 3950 non-null   object\n",
      " 1   Total confirmed         3950 non-null   object\n",
      " 2   Total_confirmed_today   3950 non-null   object\n",
      " 3   Total_deaths            3950 non-null   object\n",
      " 4   Total_deaths_today      3950 non-null   object\n",
      " 5   Total_Recoveries        3950 non-null   object\n",
      " 6   Total_Recoveries_today  3950 non-null   object\n",
      "dtypes: object(7)\n",
      "memory usage: 216.1+ KB\n"
     ]
    }
   ],
   "source": [
    "#drop duplicates\n",
    "worldwide_May_11pm = worldwide_May_11pm.drop_duplicates()\n",
    "worldwide_May_11pm= worldwide_May_11pm.reset_index(drop= True)\n",
    "#From the result we'll be able to see whether or not all columns have complete data in them.\n",
    "worldwide_May_11pm.info()"
   ]
  },
  {
   "cell_type": "code",
   "execution_count": 21,
   "metadata": {},
   "outputs": [
    {
     "data": {
      "text/html": [
       "<div>\n",
       "<style scoped>\n",
       "    .dataframe tbody tr th:only-of-type {\n",
       "        vertical-align: middle;\n",
       "    }\n",
       "\n",
       "    .dataframe tbody tr th {\n",
       "        vertical-align: top;\n",
       "    }\n",
       "\n",
       "    .dataframe thead th {\n",
       "        text-align: right;\n",
       "    }\n",
       "</style>\n",
       "<table border=\"1\" class=\"dataframe\">\n",
       "  <thead>\n",
       "    <tr style=\"text-align: right;\">\n",
       "      <th></th>\n",
       "      <th>country</th>\n",
       "      <th>total_confirmed</th>\n",
       "      <th>total_confirmed_today</th>\n",
       "      <th>total_deaths</th>\n",
       "      <th>total_deaths_today</th>\n",
       "      <th>total_recoveries</th>\n",
       "      <th>total_recoveries_today</th>\n",
       "    </tr>\n",
       "  </thead>\n",
       "  <tbody>\n",
       "    <tr>\n",
       "      <th>0</th>\n",
       "      <td>united-states</td>\n",
       "      <td>1,129,882</td>\n",
       "      <td>35,152</td>\n",
       "      <td>65,724</td>\n",
       "      <td>1,883</td>\n",
       "      <td>161,551</td>\n",
       "      <td>9,227</td>\n",
       "    </tr>\n",
       "    <tr>\n",
       "      <th>1</th>\n",
       "      <td>spain</td>\n",
       "      <td>242,988</td>\n",
       "      <td>3,349</td>\n",
       "      <td>24,824</td>\n",
       "      <td>281</td>\n",
       "      <td>142,450</td>\n",
       "      <td>4,466</td>\n",
       "    </tr>\n",
       "  </tbody>\n",
       "</table>\n",
       "</div>"
      ],
      "text/plain": [
       "         country total_confirmed total_confirmed_today total_deaths  \\\n",
       "0  united-states       1,129,882                35,152       65,724   \n",
       "1          spain         242,988                 3,349       24,824   \n",
       "\n",
       "  total_deaths_today total_recoveries total_recoveries_today  \n",
       "0              1,883          161,551                  9,227  \n",
       "1                281          142,450                  4,466  "
      ]
     },
     "execution_count": 21,
     "metadata": {},
     "output_type": "execute_result"
    }
   ],
   "source": [
    "#convert all column headers to lowercase and add an underscore\n",
    "worldwide_May_11pm .columns = [line.lower().replace(' ','_') for line in worldwide_May_11pm .columns]\n",
    "worldwide_May_11pm.head(2)"
   ]
  },
  {
   "cell_type": "code",
   "execution_count": 22,
   "metadata": {},
   "outputs": [],
   "source": [
    "worldwide_May_11pm=worldwide_May_11pm.fillna(0)\n",
    "worldwide_May_11pm= worldwide_May_11pm.reset_index(drop= True)"
   ]
  },
  {
   "cell_type": "code",
   "execution_count": 23,
   "metadata": {},
   "outputs": [],
   "source": [
    "worldwide_May_11pm['total_confirmed_today']=worldwide_May_11pm['total_confirmed_today'].str.replace(',', '')\n",
    "worldwide_May_11pm['total_confirmed_today']=worldwide_May_11pm['total_confirmed_today'].fillna(0)\n",
    "worldwide_May_11pm['total_confirmed_today']=worldwide_May_11pm['total_confirmed_today'].astype(int)\n",
    "worldwide_May_11pm= worldwide_May_11pm.reset_index(drop= True)"
   ]
  },
  {
   "cell_type": "code",
   "execution_count": null,
   "metadata": {},
   "outputs": [],
   "source": [
    "worldwide_May_11pm['total_confirmed']=worldwide_May_11pm['total_confirmed'].str.replace(',', '')\n",
    "worldwide_May_11pm['total_confirmed']=worldwide_May_11pm['total_confirmed'].fillna(0)\n",
    "worldwide_May_11pm['total_confirmed']=worldwide_May_11pm['total_confirmed'].astype(int)"
   ]
  },
  {
   "cell_type": "code",
   "execution_count": null,
   "metadata": {},
   "outputs": [],
   "source": [
    "worldwide_May_11pm['country']=worldwide_May_11pm['country'].replace('united-states','USA')"
   ]
  },
  {
   "cell_type": "code",
   "execution_count": null,
   "metadata": {},
   "outputs": [
    {
     "name": "stdout",
     "output_type": "stream",
     "text": [
      "Total number of cases in May for US = 555285\n"
     ]
    }
   ],
   "source": [
    "US_cases_May = worldwide_May_11pm[worldwide_May_11pm['country']=='USA']\n",
    "US_cases_May = US_cases_May['total_confirmed'].max() - US_cases_May['total_confirmed'].min()\n",
    "print(f\"Total number of cases in May for US = {US_cases_May}\")"
   ]
  },
  {
   "cell_type": "code",
   "execution_count": null,
   "metadata": {},
   "outputs": [
    {
     "name": "stdout",
     "output_type": "stream",
     "text": [
      "Total number of cases in May for Germany = 16251\n"
     ]
    }
   ],
   "source": [
    "Germany_cases_May = worldwide_May_11pm[worldwide_May_11pm['country']=='germany']\n",
    "Germany_cases_May = Germany_cases_May['total_confirmed'].max() - Germany_cases_May['total_confirmed'].min()\n",
    "print(f\"Total number of cases in May for Germany = {Germany_cases_May}\")"
   ]
  },
  {
   "cell_type": "code",
   "execution_count": null,
   "metadata": {},
   "outputs": [
    {
     "data": {
      "text/html": [
       "<div>\n",
       "<style scoped>\n",
       "    .dataframe tbody tr th:only-of-type {\n",
       "        vertical-align: middle;\n",
       "    }\n",
       "\n",
       "    .dataframe tbody tr th {\n",
       "        vertical-align: top;\n",
       "    }\n",
       "\n",
       "    .dataframe thead th {\n",
       "        text-align: right;\n",
       "    }\n",
       "</style>\n",
       "<table border=\"1\" class=\"dataframe\">\n",
       "  <thead>\n",
       "    <tr style=\"text-align: right;\">\n",
       "      <th></th>\n",
       "      <th>Total cases in May</th>\n",
       "    </tr>\n",
       "    <tr>\n",
       "      <th>Country</th>\n",
       "      <th></th>\n",
       "    </tr>\n",
       "  </thead>\n",
       "  <tbody>\n",
       "    <tr>\n",
       "      <th>US</th>\n",
       "      <td>555285</td>\n",
       "    </tr>\n",
       "    <tr>\n",
       "      <th>Germany</th>\n",
       "      <td>16251</td>\n",
       "    </tr>\n",
       "  </tbody>\n",
       "</table>\n",
       "</div>"
      ],
      "text/plain": [
       "         Total cases in May\n",
       "Country                    \n",
       "US                   555285\n",
       "Germany               16251"
      ]
     },
     "execution_count": 28,
     "metadata": {},
     "output_type": "execute_result"
    }
   ],
   "source": [
    "df1 = pd.DataFrame({'Country':['US','Germany'],\n",
    "                   'Total cases in May':[US_cases_May,Germany_cases_May]\n",
    "                   })\n",
    "df1.set_index('Country')"
   ]
  },
  {
   "cell_type": "code",
   "execution_count": null,
   "metadata": {},
   "outputs": [],
   "source": [
    "conda install -c plotly plotly-orca"
   ]
  },
  {
   "cell_type": "code",
   "execution_count": null,
   "metadata": {},
   "outputs": [],
   "source": [
    "fig = px.bar(df1, x='Country', y='Total cases in May',\n",
    "             color='Total cases in May',\n",
    "             labels={'US':'Germany'}, title = \"US vs Germany cases in May\",height=450)\n",
    "fig.show(renderer='svg')"
   ]
  },
  {
   "cell_type": "markdown",
   "metadata": {},
   "source": [
    "#### Question 4: Using the covid_other data, how many cases did Italy and Russia each record in April?"
   ]
  },
  {
   "cell_type": "code",
   "execution_count": null,
   "metadata": {},
   "outputs": [],
   "source": [
    "covid_Apr_other.head(2)"
   ]
  },
  {
   "cell_type": "code",
   "execution_count": null,
   "metadata": {},
   "outputs": [],
   "source": [
    "#Dropping columns we wont need for this analysis\n",
    "covid_Apr_other = covid_Apr_other.drop(['active','critical','deaths_today','tests','recovered_today','recovery_rate'],axis=1)"
   ]
  },
  {
   "cell_type": "code",
   "execution_count": null,
   "metadata": {},
   "outputs": [],
   "source": [
    "covid_Apr_other= covid_Apr_other.reset_index(drop= True)\n",
    "covid_Apr_other.info()"
   ]
  },
  {
   "cell_type": "code",
   "execution_count": null,
   "metadata": {},
   "outputs": [],
   "source": [
    "#drop duplicates\n",
    "covid_Apr_other = covid_Apr_other.drop_duplicates()\n",
    "#From the result we'll be able to see whether or not all columns have complete data in them.\n",
    "covid_Apr_other.info()"
   ]
  },
  {
   "cell_type": "code",
   "execution_count": null,
   "metadata": {},
   "outputs": [],
   "source": [
    "covid_Apr_other=covid_Apr_other.fillna(0)\n",
    "covid_Apr_other= covid_Apr_other.reset_index(drop= True)"
   ]
  },
  {
   "cell_type": "code",
   "execution_count": null,
   "metadata": {},
   "outputs": [],
   "source": [
    "Italy_cases_Apr = covid_Apr_other[covid_Apr_other['countries']=='Italy']\n",
    "Italy_cases_Apr = Italy_cases_Apr['infected'].max() - Italy_cases_Apr['infected'].min()\n",
    "print(f\"Total number of cases in April for Italy= {Italy_cases_Apr}\")"
   ]
  },
  {
   "cell_type": "code",
   "execution_count": null,
   "metadata": {},
   "outputs": [],
   "source": [
    "Russia_cases_Apr = covid_Apr_other[covid_Apr_other['countries']=='Russia']\n",
    "Russia_cases_Apr = Russia_cases_Apr['infected'].max() - Russia_cases_Apr['infected'].min()\n",
    "print(f\"Total number of cases in April for Russia= {Russia_cases_Apr}\")"
   ]
  },
  {
   "cell_type": "code",
   "execution_count": null,
   "metadata": {},
   "outputs": [],
   "source": [
    "df2 = pd.DataFrame({'Country':['Italy','Russia'],\n",
    "                   'Total cases in April':[Italy_cases_Apr,Russia_cases_Apr]\n",
    "                   })\n",
    "df2.set_index('Country')"
   ]
  },
  {
   "cell_type": "code",
   "execution_count": null,
   "metadata": {},
   "outputs": [],
   "source": [
    "fig1 = px.bar(df2, x='Country', y='Total cases in April',\n",
    "             color='Total cases in April',\n",
    "             labels={'Italy':'Russia'}, title = \"Italy vs Russia cases in April\",height=450)\n",
    "fig1.show(renderer='svg')"
   ]
  },
  {
   "cell_type": "markdown",
   "metadata": {},
   "source": [
    "#### Question 5: Using the covid_other data, how many cases did Italy and Russia each record in May?"
   ]
  },
  {
   "cell_type": "code",
   "execution_count": null,
   "metadata": {},
   "outputs": [],
   "source": [
    "covid_May_other.head(2)"
   ]
  },
  {
   "cell_type": "code",
   "execution_count": null,
   "metadata": {},
   "outputs": [],
   "source": [
    "#Dropping columns we wont need for this analysis\n",
    "covid_May_other = covid_May_other.drop(['active','critical','deaths_today','tests','recovered_today','recovery_rate'],axis=1)"
   ]
  },
  {
   "cell_type": "code",
   "execution_count": null,
   "metadata": {},
   "outputs": [],
   "source": [
    "covid_May_other= covid_May_other.reset_index(drop= True)\n",
    "covid_May_other.info()"
   ]
  },
  {
   "cell_type": "code",
   "execution_count": null,
   "metadata": {},
   "outputs": [],
   "source": [
    "#drop duplicates\n",
    "covid_May_other = covid_May_other.drop_duplicates()\n",
    "#From the result we'll be able to see whether or not all columns have complete data in them.\n",
    "covid_May_other.info()"
   ]
  },
  {
   "cell_type": "code",
   "execution_count": null,
   "metadata": {},
   "outputs": [],
   "source": [
    "covid_May_other=covid_May_other.fillna(0)\n",
    "covid_May_other= covid_May_other.reset_index(drop= True)"
   ]
  },
  {
   "cell_type": "code",
   "execution_count": null,
   "metadata": {},
   "outputs": [],
   "source": [
    "Italy_cases_May = covid_May_other[covid_May_other['countries']=='Italy']\n",
    "Italy_cases_May = Italy_cases_May['infected'].max() - Italy_cases_May['infected'].min()\n",
    "print(f\"Total number of cases in May for Italy= {Italy_cases_May}\")"
   ]
  },
  {
   "cell_type": "code",
   "execution_count": null,
   "metadata": {},
   "outputs": [],
   "source": [
    "Russia_cases_May = covid_May_other[covid_May_other['countries']=='Russia']\n",
    "Russia_cases_May = Russia_cases_May['infected'].max() - Russia_cases_May['infected'].min()\n",
    "print(f\"Total number of cases in May for Russia= {Russia_cases_May}\")"
   ]
  },
  {
   "cell_type": "code",
   "execution_count": null,
   "metadata": {},
   "outputs": [],
   "source": [
    "df2 = pd.DataFrame({'Country':['Italy','Russia'],\n",
    "                   'Total cases in May':[Italy_cases_May,Russia_cases_May]\n",
    "                   })\n",
    "df2.set_index('Country')"
   ]
  },
  {
   "cell_type": "code",
   "execution_count": null,
   "metadata": {},
   "outputs": [],
   "source": [
    "fig3 = px.bar(df2, x='Country', y='Total cases in May',\n",
    "             color='Total cases in May',\n",
    "             labels={'Italy':'Russia'}, title = \"Italy vs Russia cases in May\",height=450)\n",
    "fig3.show(renderer='svg')"
   ]
  },
  {
   "cell_type": "markdown",
   "metadata": {},
   "source": [
    "#### Some observations:\n",
    "    - Comparing the total number of cases of Italy and Russia, it can be seen that for May Russia had twice the total number of cases recorded in April. While for italy their cases reduced to almost one-fourth of the cases recorded in April. A \n",
    "    tremedous reduction!"
   ]
  },
  {
   "cell_type": "markdown",
   "metadata": {},
   "source": [
    "#### The Kicker: Using worldwide_11pm data, how many cases were recorded by US, Italy, China, Russia, Germany in April + May?"
   ]
  },
  {
   "cell_type": "markdown",
   "metadata": {},
   "source": [
    "     - We will add up total cases in Apr and May for US, Italy, China, Russia, Germany. First Apr, then May"
   ]
  },
  {
   "cell_type": "markdown",
   "metadata": {},
   "source": [
    "#### US, Italy, China, Russia, Germany for April"
   ]
  },
  {
   "cell_type": "code",
   "execution_count": null,
   "metadata": {},
   "outputs": [],
   "source": [
    "#For US\n",
    "US_cases_Apr = worldwide_Apr_11pm[worldwide_Apr_11pm['Country']=='USA']['Total_confirmed_today'].sum()\n",
    "print(f\"Total number of cases in April for US = {US_cases_Apr}\")\n",
    "#For Italy\n",
    "Italy_cases_Apr = worldwide_Apr_11pm[worldwide_Apr_11pm['Country']=='italy']\n",
    "Italy_cases_Apr = Italy_cases_Apr['Total confirmed'].max() - Italy_cases_Apr['Total confirmed'].min()\n",
    "print(f\"Total number of cases in April for Italy = {Italy_cases_Apr}\")\n",
    "#For China\n",
    "China_cases_Apr = worldwide_Apr_11pm[worldwide_Apr_11pm['Country']=='china']\n",
    "China_cases_Apr = China_cases_Apr['Total confirmed'].max() - China_cases_Apr['Total confirmed'].min()\n",
    "print(f\"Total number of cases in April for China = {China_cases_Apr}\")\n",
    "#For Russia\n",
    "Russia_cases_Apr = worldwide_Apr_11pm[worldwide_Apr_11pm['Country']=='russia']\n",
    "Russia_cases_Apr = Russia_cases_Apr['Total confirmed'].max() - Russia_cases_Apr['Total confirmed'].min()\n",
    "print(f\"Total number of cases in April for Russia = {Russia_cases_Apr}\")\n",
    "#For Germany\n",
    "Germany_cases_Apr = worldwide_Apr_11pm[worldwide_Apr_11pm['Country']=='germany']\n",
    "Germany_cases_Apr = Germany_cases_Apr['Total confirmed'].max() - Germany_cases_Apr['Total confirmed'].min()\n",
    "print(f\"Total number of cases in April for Germany = {Germany_cases_Apr}\")"
   ]
  },
  {
   "cell_type": "markdown",
   "metadata": {},
   "source": [
    "#### US, Italy, China, Russia, Germany for May"
   ]
  },
  {
   "cell_type": "code",
   "execution_count": null,
   "metadata": {},
   "outputs": [],
   "source": [
    "#For US\n",
    "US_cases_May = worldwide_May_11pm[worldwide_May_11pm['country']=='USA']\n",
    "US_cases_May = US_cases_May['total_confirmed'].max() - US_cases_May['total_confirmed'].min()\n",
    "print(f\"Total number of cases in May for US = {US_cases_May}\")\n",
    "#For Italy\n",
    "Italy_cases_May = worldwide_May_11pm[worldwide_May_11pm['country']=='italy']\n",
    "Italy_cases_May = Italy_cases_May['total_confirmed'].max() - Italy_cases_May['total_confirmed'].min() \n",
    "print(f\"Total number of cases in May for Italy = {Italy_cases_May}\")\n",
    "#For China\n",
    "China_cases_May = worldwide_May_11pm[worldwide_May_11pm['country']=='china']\n",
    "China_cases_May = China_cases_May['total_confirmed'].max() - China_cases_May['total_confirmed'].min()\n",
    "print(f\"Total number of cases in May for China = {China_cases_May}\")\n",
    "#For Russia\n",
    "Russia_cases_May = worldwide_May_11pm[worldwide_May_11pm['country']=='russia']\n",
    "Russia_cases_May = Russia_cases_May['total_confirmed'].max() - Russia_cases_May['total_confirmed'].min()\n",
    "print(f\"Total number of cases in May for Russia = {Russia_cases_May}\")\n",
    "#For Germany\n",
    "Germany_cases_May = worldwide_May_11pm[worldwide_May_11pm['country']=='germany']\n",
    "Germany_cases_May = Germany_cases_May['total_confirmed'].max() - Germany_cases_May['total_confirmed'].min()\n",
    "print(f\"Total number of cases in May for Germany = {Germany_cases_May}\")\n"
   ]
  },
  {
   "cell_type": "markdown",
   "metadata": {},
   "source": [
    "    -Next,how many cases were recorded by US, Italy, China, Russia, Germany in April + May?"
   ]
  },
  {
   "cell_type": "code",
   "execution_count": null,
   "metadata": {},
   "outputs": [],
   "source": [
    "US_Apr_May = US_cases_Apr+US_cases_May\n",
    "Italy_Apr_May = Italy_cases_Apr+Italy_cases_May\n",
    "China_Apr_May = China_cases_Apr+China_cases_May\n",
    "Russia_Apr_May = Russia_cases_Apr+Russia_cases_May\n",
    "Germany_Apr_May = Germany_cases_Apr+Germany_cases_May"
   ]
  },
  {
   "cell_type": "code",
   "execution_count": null,
   "metadata": {},
   "outputs": [],
   "source": [
    "df3 = pd.DataFrame({'Country':['US','Russia','Italy','Germany','China'],\n",
    "                   'Total cases in April and May':[US_Apr_May,Russia_Apr_May,Italy_Apr_May,Germany_Apr_May,China_Apr_May]\n",
    "                   })\n",
    "df3.set_index('Country')"
   ]
  },
  {
   "cell_type": "code",
   "execution_count": null,
   "metadata": {},
   "outputs": [],
   "source": [
    "fig4 = px.bar(df3, x='Country', y='Total cases in April and May',\n",
    "             color='Total cases in April and May',\n",
    "             labels={'US':'Russia','Italy':'Germany'}, title = \"Total cases in April and May\",height=450)\n",
    "fig4.show(renderer='svg')"
   ]
  },
  {
   "cell_type": "code",
   "execution_count": null,
   "metadata": {},
   "outputs": [],
   "source": []
  }
 ],
 "metadata": {
  "kernelspec": {
   "display_name": "Python 3",
   "language": "python",
   "name": "python3"
  },
  "language_info": {
   "codemirror_mode": {
    "name": "ipython",
    "version": 3
   },
   "file_extension": ".py",
   "mimetype": "text/x-python",
   "name": "python",
   "nbconvert_exporter": "python",
   "pygments_lexer": "ipython3",
   "version": "3.7.3"
  }
 },
 "nbformat": 4,
 "nbformat_minor": 2
}
